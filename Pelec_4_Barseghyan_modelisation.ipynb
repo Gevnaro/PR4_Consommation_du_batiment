{
 "cells": [
  {
   "cell_type": "code",
   "execution_count": 1,
   "metadata": {},
   "outputs": [],
   "source": [
    "import pandas as pd\n",
    "import numpy as np\n",
    "import matplotlib.pyplot as plt\n",
    "import seaborn as sns\n",
    "from datetime import datetime\n",
    "from sklearn.preprocessing import StandardScaler, RobustScaler, MinMaxScaler\n",
    "from sklearn.metrics import median_absolute_error,r2_score,mean_squared_error\n",
    "from sklearn import metrics\n",
    "from sklearn.metrics import mean_squared_log_error\n",
    "from sklearn.decomposition import PCA\n",
    "from sklearn.ensemble import IsolationForest, RandomForestRegressor, GradientBoostingRegressor\n",
    "from sklearn.model_selection import GridSearchCV, cross_val_score, train_test_split\n",
    "from sklearn.linear_model import ElasticNet,Ridge,Lasso,LinearRegression\n",
    "from sklearn.svm import SVR\n",
    "from sklearn.preprocessing import PowerTransformer, OrdinalEncoder, OneHotEncoder\n",
    "from sklearn.tree import DecisionTreeRegressor\n",
    "from sklearn.feature_selection import RFECV\n",
    "from sklearn.pipeline import make_pipeline\n",
    "from sklearn.compose import ColumnTransformer\n",
    "from sklearn.pipeline import Pipeline\n",
    "from scipy.stats import ttest_ind, shapiro\n",
    "from scipy import stats as st\n",
    "import statsmodels.api as sm\n",
    "import statsmodels.formula.api as smf\n",
    "import pingouin as pg\n",
    "import warnings\n",
    "warnings.simplefilter(\"ignore\")"
   ]
  },
  {
   "cell_type": "code",
   "execution_count": 2,
   "metadata": {},
   "outputs": [],
   "source": [
    "data=pd.read_csv('nettoyage_de_donnees.csv')"
   ]
  },
  {
   "cell_type": "code",
   "execution_count": 3,
   "metadata": {},
   "outputs": [
    {
     "data": {
      "text/html": [
       "<div>\n",
       "<style scoped>\n",
       "    .dataframe tbody tr th:only-of-type {\n",
       "        vertical-align: middle;\n",
       "    }\n",
       "\n",
       "    .dataframe tbody tr th {\n",
       "        vertical-align: top;\n",
       "    }\n",
       "\n",
       "    .dataframe thead th {\n",
       "        text-align: right;\n",
       "    }\n",
       "</style>\n",
       "<table border=\"1\" class=\"dataframe\">\n",
       "  <thead>\n",
       "    <tr style=\"text-align: right;\">\n",
       "      <th></th>\n",
       "      <th>OSEBuildingID</th>\n",
       "      <th>BuildingType</th>\n",
       "      <th>PrimaryPropertyType</th>\n",
       "      <th>Neighborhood</th>\n",
       "      <th>LargestPropertyUseType</th>\n",
       "      <th>SecondLargestPropertyUseType</th>\n",
       "      <th>ThirdLargestPropertyUseType</th>\n",
       "      <th>YearsENERGYSTARCertified</th>\n",
       "      <th>NumberofBuildings</th>\n",
       "      <th>NumberofFloors</th>\n",
       "      <th>ENERGYSTARScore</th>\n",
       "      <th>SiteEnergyUse(kBtu)</th>\n",
       "      <th>TotalGHGEmissions</th>\n",
       "      <th>Data_construction_1</th>\n",
       "      <th>Surface_total_GFA</th>\n",
       "    </tr>\n",
       "  </thead>\n",
       "  <tbody>\n",
       "    <tr>\n",
       "      <th>0</th>\n",
       "      <td>43</td>\n",
       "      <td>campus</td>\n",
       "      <td>mixed use property</td>\n",
       "      <td>6</td>\n",
       "      <td>mixed use property</td>\n",
       "      <td>pas de piece</td>\n",
       "      <td>pas de piece</td>\n",
       "      <td>0.0</td>\n",
       "      <td>1.0</td>\n",
       "      <td>3.0</td>\n",
       "      <td>8.0</td>\n",
       "      <td>4.483853e+08</td>\n",
       "      <td>16870.98</td>\n",
       "      <td>2.0</td>\n",
       "      <td>494835.000000</td>\n",
       "    </tr>\n",
       "    <tr>\n",
       "      <th>1</th>\n",
       "      <td>364</td>\n",
       "      <td>nonresidential</td>\n",
       "      <td>large office</td>\n",
       "      <td>10</td>\n",
       "      <td>office</td>\n",
       "      <td>pas de piece</td>\n",
       "      <td>pas de piece</td>\n",
       "      <td>0.0</td>\n",
       "      <td>1.0</td>\n",
       "      <td>23.0</td>\n",
       "      <td>77.0</td>\n",
       "      <td>2.845044e+07</td>\n",
       "      <td>198.34</td>\n",
       "      <td>4.0</td>\n",
       "      <td>474173.933333</td>\n",
       "    </tr>\n",
       "    <tr>\n",
       "      <th>2</th>\n",
       "      <td>365</td>\n",
       "      <td>nonresidential</td>\n",
       "      <td>other</td>\n",
       "      <td>10</td>\n",
       "      <td>other</td>\n",
       "      <td>pas de piece</td>\n",
       "      <td>pas de piece</td>\n",
       "      <td>10.0</td>\n",
       "      <td>1.0</td>\n",
       "      <td>5.0</td>\n",
       "      <td>96.0</td>\n",
       "      <td>3.003849e+07</td>\n",
       "      <td>209.41</td>\n",
       "      <td>4.0</td>\n",
       "      <td>36000.000000</td>\n",
       "    </tr>\n",
       "    <tr>\n",
       "      <th>3</th>\n",
       "      <td>750</td>\n",
       "      <td>nonresidential</td>\n",
       "      <td>large office</td>\n",
       "      <td>4</td>\n",
       "      <td>office</td>\n",
       "      <td>pas de piece</td>\n",
       "      <td>pas de piece</td>\n",
       "      <td>10.0</td>\n",
       "      <td>1.0</td>\n",
       "      <td>7.0</td>\n",
       "      <td>82.0</td>\n",
       "      <td>1.654055e+07</td>\n",
       "      <td>147.82</td>\n",
       "      <td>6.0</td>\n",
       "      <td>274304.315232</td>\n",
       "    </tr>\n",
       "    <tr>\n",
       "      <th>4</th>\n",
       "      <td>19694</td>\n",
       "      <td>sps-district k-12</td>\n",
       "      <td>k-12 school</td>\n",
       "      <td>1</td>\n",
       "      <td>k-12 school</td>\n",
       "      <td>parking</td>\n",
       "      <td>pas de piece</td>\n",
       "      <td>0.0</td>\n",
       "      <td>1.0</td>\n",
       "      <td>2.0</td>\n",
       "      <td>92.0</td>\n",
       "      <td>1.967476e+06</td>\n",
       "      <td>71.06</td>\n",
       "      <td>9.0</td>\n",
       "      <td>37327.000000</td>\n",
       "    </tr>\n",
       "  </tbody>\n",
       "</table>\n",
       "</div>"
      ],
      "text/plain": [
       "   OSEBuildingID       BuildingType PrimaryPropertyType  Neighborhood  \\\n",
       "0             43             campus  mixed use property             6   \n",
       "1            364     nonresidential        large office            10   \n",
       "2            365     nonresidential               other            10   \n",
       "3            750     nonresidential        large office             4   \n",
       "4          19694  sps-district k-12         k-12 school             1   \n",
       "\n",
       "  LargestPropertyUseType SecondLargestPropertyUseType  \\\n",
       "0     mixed use property                 pas de piece   \n",
       "1                 office                 pas de piece   \n",
       "2                  other                 pas de piece   \n",
       "3                 office                 pas de piece   \n",
       "4            k-12 school                      parking   \n",
       "\n",
       "  ThirdLargestPropertyUseType  YearsENERGYSTARCertified  NumberofBuildings  \\\n",
       "0                pas de piece                       0.0                1.0   \n",
       "1                pas de piece                       0.0                1.0   \n",
       "2                pas de piece                      10.0                1.0   \n",
       "3                pas de piece                      10.0                1.0   \n",
       "4                pas de piece                       0.0                1.0   \n",
       "\n",
       "   NumberofFloors  ENERGYSTARScore  SiteEnergyUse(kBtu)  TotalGHGEmissions  \\\n",
       "0             3.0              8.0         4.483853e+08           16870.98   \n",
       "1            23.0             77.0         2.845044e+07             198.34   \n",
       "2             5.0             96.0         3.003849e+07             209.41   \n",
       "3             7.0             82.0         1.654055e+07             147.82   \n",
       "4             2.0             92.0         1.967476e+06              71.06   \n",
       "\n",
       "   Data_construction_1  Surface_total_GFA  \n",
       "0                  2.0      494835.000000  \n",
       "1                  4.0      474173.933333  \n",
       "2                  4.0       36000.000000  \n",
       "3                  6.0      274304.315232  \n",
       "4                  9.0       37327.000000  "
      ]
     },
     "execution_count": 3,
     "metadata": {},
     "output_type": "execute_result"
    }
   ],
   "source": [
    "data.head()"
   ]
  },
  {
   "cell_type": "code",
   "execution_count": 4,
   "metadata": {},
   "outputs": [
    {
     "data": {
      "text/plain": [
       "(1691, 15)"
      ]
     },
     "execution_count": 4,
     "metadata": {},
     "output_type": "execute_result"
    }
   ],
   "source": [
    "data.shape"
   ]
  },
  {
   "cell_type": "code",
   "execution_count": 5,
   "metadata": {},
   "outputs": [
    {
     "data": {
      "image/png": "[encoded data removed]",
      "text/plain": [
       "<Figure size 576x432 with 2 Axes>"
      ]
     },
     "metadata": {
      "needs_background": "light"
     },
     "output_type": "display_data"
    }
   ],
   "source": [
    "# Il nous reste a enlever3 features-targets, mais on va la procéder au moment de la modelasation\n",
    "plt.figure(figsize=(8,6))\n",
    "sns.heatmap(data.select_dtypes('float').corr(), annot=True, fmt=\".1f\", center=0, cmap=\"coolwarm\",vmax=1, vmin=-1)\n",
    "plt.title(f\"Heatmap des corrélations linéaires\\n\")\n",
    "plt.savefig('image/cross_avant_model.png')\n"
   ]
  },
  {
   "cell_type": "code",
   "execution_count": 6,
   "metadata": {},
   "outputs": [
    {
     "data": {
      "text/plain": [
       "Index(['YearsENERGYSTARCertified', 'NumberofBuildings', 'NumberofFloors',\n",
       "       'ENERGYSTARScore', 'SiteEnergyUse(kBtu)', 'TotalGHGEmissions',\n",
       "       'Data_construction_1', 'Surface_total_GFA'],\n",
       "      dtype='object')"
      ]
     },
     "execution_count": 6,
     "metadata": {},
     "output_type": "execute_result"
    }
   ],
   "source": [
    "data.select_dtypes('float').columns"
   ]
  },
  {
   "cell_type": "code",
   "execution_count": 7,
   "metadata": {},
   "outputs": [],
   "source": [
    "# Selection des features pous le changement de type\n",
    "cat_ord = ['NumberofBuildings', 'NumberofFloors','YearsENERGYSTARCertified','Data_construction_1']\n",
    "for i in cat_ord:\n",
    "    data[i] = data[i].astype('category').cat.codes"
   ]
  },
  {
   "cell_type": "code",
   "execution_count": 8,
   "metadata": {},
   "outputs": [
    {
     "data": {
      "text/html": [
       "<div>\n",
       "<style scoped>\n",
       "    .dataframe tbody tr th:only-of-type {\n",
       "        vertical-align: middle;\n",
       "    }\n",
       "\n",
       "    .dataframe tbody tr th {\n",
       "        vertical-align: top;\n",
       "    }\n",
       "\n",
       "    .dataframe thead th {\n",
       "        text-align: right;\n",
       "    }\n",
       "</style>\n",
       "<table border=\"1\" class=\"dataframe\">\n",
       "  <thead>\n",
       "    <tr style=\"text-align: right;\">\n",
       "      <th></th>\n",
       "      <th>OSEBuildingID</th>\n",
       "      <th>BuildingType</th>\n",
       "      <th>PrimaryPropertyType</th>\n",
       "      <th>Neighborhood</th>\n",
       "      <th>LargestPropertyUseType</th>\n",
       "      <th>SecondLargestPropertyUseType</th>\n",
       "      <th>ThirdLargestPropertyUseType</th>\n",
       "      <th>YearsENERGYSTARCertified</th>\n",
       "      <th>NumberofBuildings</th>\n",
       "      <th>NumberofFloors</th>\n",
       "      <th>ENERGYSTARScore</th>\n",
       "      <th>SiteEnergyUse(kBtu)</th>\n",
       "      <th>TotalGHGEmissions</th>\n",
       "      <th>Data_construction_1</th>\n",
       "      <th>Surface_total_GFA</th>\n",
       "    </tr>\n",
       "  </thead>\n",
       "  <tbody>\n",
       "    <tr>\n",
       "      <th>0</th>\n",
       "      <td>43</td>\n",
       "      <td>campus</td>\n",
       "      <td>mixed use property</td>\n",
       "      <td>6</td>\n",
       "      <td>mixed use property</td>\n",
       "      <td>pas de piece</td>\n",
       "      <td>pas de piece</td>\n",
       "      <td>0</td>\n",
       "      <td>0</td>\n",
       "      <td>9</td>\n",
       "      <td>8.0</td>\n",
       "      <td>4.483853e+08</td>\n",
       "      <td>16870.98</td>\n",
       "      <td>2</td>\n",
       "      <td>494835.000000</td>\n",
       "    </tr>\n",
       "    <tr>\n",
       "      <th>1</th>\n",
       "      <td>364</td>\n",
       "      <td>nonresidential</td>\n",
       "      <td>large office</td>\n",
       "      <td>10</td>\n",
       "      <td>office</td>\n",
       "      <td>pas de piece</td>\n",
       "      <td>pas de piece</td>\n",
       "      <td>0</td>\n",
       "      <td>0</td>\n",
       "      <td>30</td>\n",
       "      <td>77.0</td>\n",
       "      <td>2.845044e+07</td>\n",
       "      <td>198.34</td>\n",
       "      <td>4</td>\n",
       "      <td>474173.933333</td>\n",
       "    </tr>\n",
       "    <tr>\n",
       "      <th>2</th>\n",
       "      <td>365</td>\n",
       "      <td>nonresidential</td>\n",
       "      <td>other</td>\n",
       "      <td>10</td>\n",
       "      <td>other</td>\n",
       "      <td>pas de piece</td>\n",
       "      <td>pas de piece</td>\n",
       "      <td>4</td>\n",
       "      <td>0</td>\n",
       "      <td>12</td>\n",
       "      <td>96.0</td>\n",
       "      <td>3.003849e+07</td>\n",
       "      <td>209.41</td>\n",
       "      <td>4</td>\n",
       "      <td>36000.000000</td>\n",
       "    </tr>\n",
       "    <tr>\n",
       "      <th>3</th>\n",
       "      <td>750</td>\n",
       "      <td>nonresidential</td>\n",
       "      <td>large office</td>\n",
       "      <td>4</td>\n",
       "      <td>office</td>\n",
       "      <td>pas de piece</td>\n",
       "      <td>pas de piece</td>\n",
       "      <td>4</td>\n",
       "      <td>0</td>\n",
       "      <td>14</td>\n",
       "      <td>82.0</td>\n",
       "      <td>1.654055e+07</td>\n",
       "      <td>147.82</td>\n",
       "      <td>6</td>\n",
       "      <td>274304.315232</td>\n",
       "    </tr>\n",
       "    <tr>\n",
       "      <th>4</th>\n",
       "      <td>19694</td>\n",
       "      <td>sps-district k-12</td>\n",
       "      <td>k-12 school</td>\n",
       "      <td>1</td>\n",
       "      <td>k-12 school</td>\n",
       "      <td>parking</td>\n",
       "      <td>pas de piece</td>\n",
       "      <td>0</td>\n",
       "      <td>0</td>\n",
       "      <td>8</td>\n",
       "      <td>92.0</td>\n",
       "      <td>1.967476e+06</td>\n",
       "      <td>71.06</td>\n",
       "      <td>9</td>\n",
       "      <td>37327.000000</td>\n",
       "    </tr>\n",
       "  </tbody>\n",
       "</table>\n",
       "</div>"
      ],
      "text/plain": [
       "   OSEBuildingID       BuildingType PrimaryPropertyType  Neighborhood  \\\n",
       "0             43             campus  mixed use property             6   \n",
       "1            364     nonresidential        large office            10   \n",
       "2            365     nonresidential               other            10   \n",
       "3            750     nonresidential        large office             4   \n",
       "4          19694  sps-district k-12         k-12 school             1   \n",
       "\n",
       "  LargestPropertyUseType SecondLargestPropertyUseType  \\\n",
       "0     mixed use property                 pas de piece   \n",
       "1                 office                 pas de piece   \n",
       "2                  other                 pas de piece   \n",
       "3                 office                 pas de piece   \n",
       "4            k-12 school                      parking   \n",
       "\n",
       "  ThirdLargestPropertyUseType  YearsENERGYSTARCertified  NumberofBuildings  \\\n",
       "0                pas de piece                         0                  0   \n",
       "1                pas de piece                         0                  0   \n",
       "2                pas de piece                         4                  0   \n",
       "3                pas de piece                         4                  0   \n",
       "4                pas de piece                         0                  0   \n",
       "\n",
       "   NumberofFloors  ENERGYSTARScore  SiteEnergyUse(kBtu)  TotalGHGEmissions  \\\n",
       "0               9              8.0         4.483853e+08           16870.98   \n",
       "1              30             77.0         2.845044e+07             198.34   \n",
       "2              12             96.0         3.003849e+07             209.41   \n",
       "3              14             82.0         1.654055e+07             147.82   \n",
       "4               8             92.0         1.967476e+06              71.06   \n",
       "\n",
       "   Data_construction_1  Surface_total_GFA  \n",
       "0                    2      494835.000000  \n",
       "1                    4      474173.933333  \n",
       "2                    4       36000.000000  \n",
       "3                    6      274304.315232  \n",
       "4                    9       37327.000000  "
      ]
     },
     "execution_count": 8,
     "metadata": {},
     "output_type": "execute_result"
    }
   ],
   "source": [
    "data.head()"
   ]
  },
  {
   "cell_type": "markdown",
   "metadata": {},
   "source": [
    "#### One_hot_encoder"
   ]
  },
  {
   "cell_type": "code",
   "execution_count": 9,
   "metadata": {},
   "outputs": [],
   "source": [
    "# Utilisation de \"OneHotEncoder\" pour encoder le reste (type == object)\n",
    "categorical_features = ['BuildingType', 'PrimaryPropertyType','LargestPropertyUseType','SecondLargestPropertyUseType', 'ThirdLargestPropertyUseType']\n"
   ]
  },
  {
   "cell_type": "code",
   "execution_count": 10,
   "metadata": {},
   "outputs": [],
   "source": [
    "data = pd.get_dummies(data, columns = categorical_features)"
   ]
  },
  {
   "cell_type": "code",
   "execution_count": 11,
   "metadata": {},
   "outputs": [
    {
     "data": {
      "text/html": [
       "<div>\n",
       "<style scoped>\n",
       "    .dataframe tbody tr th:only-of-type {\n",
       "        vertical-align: middle;\n",
       "    }\n",
       "\n",
       "    .dataframe tbody tr th {\n",
       "        vertical-align: top;\n",
       "    }\n",
       "\n",
       "    .dataframe thead th {\n",
       "        text-align: right;\n",
       "    }\n",
       "</style>\n",
       "<table border=\"1\" class=\"dataframe\">\n",
       "  <thead>\n",
       "    <tr style=\"text-align: right;\">\n",
       "      <th></th>\n",
       "      <th>OSEBuildingID</th>\n",
       "      <th>Neighborhood</th>\n",
       "      <th>YearsENERGYSTARCertified</th>\n",
       "      <th>NumberofBuildings</th>\n",
       "      <th>NumberofFloors</th>\n",
       "      <th>ENERGYSTARScore</th>\n",
       "      <th>SiteEnergyUse(kBtu)</th>\n",
       "      <th>TotalGHGEmissions</th>\n",
       "      <th>Data_construction_1</th>\n",
       "      <th>Surface_total_GFA</th>\n",
       "      <th>...</th>\n",
       "      <th>ThirdLargestPropertyUseType_personal services (health/beauty, dry cleaning, etc)</th>\n",
       "      <th>ThirdLargestPropertyUseType_pre-school/daycare</th>\n",
       "      <th>ThirdLargestPropertyUseType_refrigerated warehouse</th>\n",
       "      <th>ThirdLargestPropertyUseType_restaurant</th>\n",
       "      <th>ThirdLargestPropertyUseType_retail store</th>\n",
       "      <th>ThirdLargestPropertyUseType_self-storage facility</th>\n",
       "      <th>ThirdLargestPropertyUseType_social/meeting hall</th>\n",
       "      <th>ThirdLargestPropertyUseType_supermarket/grocery store</th>\n",
       "      <th>ThirdLargestPropertyUseType_swimming pool</th>\n",
       "      <th>ThirdLargestPropertyUseType_worship facility</th>\n",
       "    </tr>\n",
       "  </thead>\n",
       "  <tbody>\n",
       "    <tr>\n",
       "      <th>0</th>\n",
       "      <td>43</td>\n",
       "      <td>6</td>\n",
       "      <td>0</td>\n",
       "      <td>0</td>\n",
       "      <td>9</td>\n",
       "      <td>8.0</td>\n",
       "      <td>4.483853e+08</td>\n",
       "      <td>16870.980</td>\n",
       "      <td>2</td>\n",
       "      <td>494835.000000</td>\n",
       "      <td>...</td>\n",
       "      <td>0</td>\n",
       "      <td>0</td>\n",
       "      <td>0</td>\n",
       "      <td>0</td>\n",
       "      <td>0</td>\n",
       "      <td>0</td>\n",
       "      <td>0</td>\n",
       "      <td>0</td>\n",
       "      <td>0</td>\n",
       "      <td>0</td>\n",
       "    </tr>\n",
       "    <tr>\n",
       "      <th>1</th>\n",
       "      <td>364</td>\n",
       "      <td>10</td>\n",
       "      <td>0</td>\n",
       "      <td>0</td>\n",
       "      <td>30</td>\n",
       "      <td>77.0</td>\n",
       "      <td>2.845044e+07</td>\n",
       "      <td>198.340</td>\n",
       "      <td>4</td>\n",
       "      <td>474173.933333</td>\n",
       "      <td>...</td>\n",
       "      <td>0</td>\n",
       "      <td>0</td>\n",
       "      <td>0</td>\n",
       "      <td>0</td>\n",
       "      <td>0</td>\n",
       "      <td>0</td>\n",
       "      <td>0</td>\n",
       "      <td>0</td>\n",
       "      <td>0</td>\n",
       "      <td>0</td>\n",
       "    </tr>\n",
       "    <tr>\n",
       "      <th>2</th>\n",
       "      <td>365</td>\n",
       "      <td>10</td>\n",
       "      <td>4</td>\n",
       "      <td>0</td>\n",
       "      <td>12</td>\n",
       "      <td>96.0</td>\n",
       "      <td>3.003849e+07</td>\n",
       "      <td>209.410</td>\n",
       "      <td>4</td>\n",
       "      <td>36000.000000</td>\n",
       "      <td>...</td>\n",
       "      <td>0</td>\n",
       "      <td>0</td>\n",
       "      <td>0</td>\n",
       "      <td>0</td>\n",
       "      <td>0</td>\n",
       "      <td>0</td>\n",
       "      <td>0</td>\n",
       "      <td>0</td>\n",
       "      <td>0</td>\n",
       "      <td>0</td>\n",
       "    </tr>\n",
       "    <tr>\n",
       "      <th>3</th>\n",
       "      <td>750</td>\n",
       "      <td>4</td>\n",
       "      <td>4</td>\n",
       "      <td>0</td>\n",
       "      <td>14</td>\n",
       "      <td>82.0</td>\n",
       "      <td>1.654055e+07</td>\n",
       "      <td>147.820</td>\n",
       "      <td>6</td>\n",
       "      <td>274304.315232</td>\n",
       "      <td>...</td>\n",
       "      <td>0</td>\n",
       "      <td>0</td>\n",
       "      <td>0</td>\n",
       "      <td>0</td>\n",
       "      <td>0</td>\n",
       "      <td>0</td>\n",
       "      <td>0</td>\n",
       "      <td>0</td>\n",
       "      <td>0</td>\n",
       "      <td>0</td>\n",
       "    </tr>\n",
       "    <tr>\n",
       "      <th>4</th>\n",
       "      <td>19694</td>\n",
       "      <td>1</td>\n",
       "      <td>0</td>\n",
       "      <td>0</td>\n",
       "      <td>8</td>\n",
       "      <td>92.0</td>\n",
       "      <td>1.967476e+06</td>\n",
       "      <td>71.060</td>\n",
       "      <td>9</td>\n",
       "      <td>37327.000000</td>\n",
       "      <td>...</td>\n",
       "      <td>0</td>\n",
       "      <td>0</td>\n",
       "      <td>0</td>\n",
       "      <td>0</td>\n",
       "      <td>0</td>\n",
       "      <td>0</td>\n",
       "      <td>0</td>\n",
       "      <td>0</td>\n",
       "      <td>0</td>\n",
       "      <td>0</td>\n",
       "    </tr>\n",
       "    <tr>\n",
       "      <th>...</th>\n",
       "      <td>...</td>\n",
       "      <td>...</td>\n",
       "      <td>...</td>\n",
       "      <td>...</td>\n",
       "      <td>...</td>\n",
       "      <td>...</td>\n",
       "      <td>...</td>\n",
       "      <td>...</td>\n",
       "      <td>...</td>\n",
       "      <td>...</td>\n",
       "      <td>...</td>\n",
       "      <td>...</td>\n",
       "      <td>...</td>\n",
       "      <td>...</td>\n",
       "      <td>...</td>\n",
       "      <td>...</td>\n",
       "      <td>...</td>\n",
       "      <td>...</td>\n",
       "      <td>...</td>\n",
       "      <td>...</td>\n",
       "      <td>...</td>\n",
       "    </tr>\n",
       "    <tr>\n",
       "      <th>1686</th>\n",
       "      <td>49966</td>\n",
       "      <td>12</td>\n",
       "      <td>0</td>\n",
       "      <td>0</td>\n",
       "      <td>11</td>\n",
       "      <td>NaN</td>\n",
       "      <td>2.058263e+06</td>\n",
       "      <td>46.895</td>\n",
       "      <td>0</td>\n",
       "      <td>40278.921508</td>\n",
       "      <td>...</td>\n",
       "      <td>0</td>\n",
       "      <td>0</td>\n",
       "      <td>0</td>\n",
       "      <td>0</td>\n",
       "      <td>0</td>\n",
       "      <td>0</td>\n",
       "      <td>0</td>\n",
       "      <td>0</td>\n",
       "      <td>0</td>\n",
       "      <td>0</td>\n",
       "    </tr>\n",
       "    <tr>\n",
       "      <th>1687</th>\n",
       "      <td>49985</td>\n",
       "      <td>7</td>\n",
       "      <td>4</td>\n",
       "      <td>0</td>\n",
       "      <td>13</td>\n",
       "      <td>99.0</td>\n",
       "      <td>1.655091e+07</td>\n",
       "      <td>212.195</td>\n",
       "      <td>0</td>\n",
       "      <td>596318.933379</td>\n",
       "      <td>...</td>\n",
       "      <td>0</td>\n",
       "      <td>0</td>\n",
       "      <td>0</td>\n",
       "      <td>0</td>\n",
       "      <td>0</td>\n",
       "      <td>0</td>\n",
       "      <td>0</td>\n",
       "      <td>0</td>\n",
       "      <td>0</td>\n",
       "      <td>0</td>\n",
       "    </tr>\n",
       "    <tr>\n",
       "      <th>1688</th>\n",
       "      <td>49998</td>\n",
       "      <td>12</td>\n",
       "      <td>0</td>\n",
       "      <td>0</td>\n",
       "      <td>11</td>\n",
       "      <td>NaN</td>\n",
       "      <td>8.957063e+05</td>\n",
       "      <td>11.155</td>\n",
       "      <td>0</td>\n",
       "      <td>87808.417144</td>\n",
       "      <td>...</td>\n",
       "      <td>0</td>\n",
       "      <td>0</td>\n",
       "      <td>0</td>\n",
       "      <td>0</td>\n",
       "      <td>0</td>\n",
       "      <td>0</td>\n",
       "      <td>0</td>\n",
       "      <td>0</td>\n",
       "      <td>0</td>\n",
       "      <td>0</td>\n",
       "    </tr>\n",
       "    <tr>\n",
       "      <th>1689</th>\n",
       "      <td>50002</td>\n",
       "      <td>10</td>\n",
       "      <td>0</td>\n",
       "      <td>0</td>\n",
       "      <td>9</td>\n",
       "      <td>NaN</td>\n",
       "      <td>1.394568e+06</td>\n",
       "      <td>9.725</td>\n",
       "      <td>0</td>\n",
       "      <td>55840.193820</td>\n",
       "      <td>...</td>\n",
       "      <td>0</td>\n",
       "      <td>0</td>\n",
       "      <td>0</td>\n",
       "      <td>0</td>\n",
       "      <td>0</td>\n",
       "      <td>0</td>\n",
       "      <td>0</td>\n",
       "      <td>0</td>\n",
       "      <td>0</td>\n",
       "      <td>0</td>\n",
       "    </tr>\n",
       "    <tr>\n",
       "      <th>1690</th>\n",
       "      <td>50038</td>\n",
       "      <td>8</td>\n",
       "      <td>0</td>\n",
       "      <td>0</td>\n",
       "      <td>8</td>\n",
       "      <td>84.0</td>\n",
       "      <td>6.282316e+05</td>\n",
       "      <td>4.380</td>\n",
       "      <td>0</td>\n",
       "      <td>35230.347400</td>\n",
       "      <td>...</td>\n",
       "      <td>0</td>\n",
       "      <td>0</td>\n",
       "      <td>0</td>\n",
       "      <td>0</td>\n",
       "      <td>0</td>\n",
       "      <td>0</td>\n",
       "      <td>0</td>\n",
       "      <td>0</td>\n",
       "      <td>0</td>\n",
       "      <td>0</td>\n",
       "    </tr>\n",
       "  </tbody>\n",
       "</table>\n",
       "<p>1691 rows × 185 columns</p>\n",
       "</div>"
      ],
      "text/plain": [
       "      OSEBuildingID  Neighborhood  YearsENERGYSTARCertified  \\\n",
       "0                43             6                         0   \n",
       "1               364            10                         0   \n",
       "2               365            10                         4   \n",
       "3               750             4                         4   \n",
       "4             19694             1                         0   \n",
       "...             ...           ...                       ...   \n",
       "1686          49966            12                         0   \n",
       "1687          49985             7                         4   \n",
       "1688          49998            12                         0   \n",
       "1689          50002            10                         0   \n",
       "1690          50038             8                         0   \n",
       "\n",
       "      NumberofBuildings  NumberofFloors  ENERGYSTARScore  SiteEnergyUse(kBtu)  \\\n",
       "0                     0               9              8.0         4.483853e+08   \n",
       "1                     0              30             77.0         2.845044e+07   \n",
       "2                     0              12             96.0         3.003849e+07   \n",
       "3                     0              14             82.0         1.654055e+07   \n",
       "4                     0               8             92.0         1.967476e+06   \n",
       "...                 ...             ...              ...                  ...   \n",
       "1686                  0              11              NaN         2.058263e+06   \n",
       "1687                  0              13             99.0         1.655091e+07   \n",
       "1688                  0              11              NaN         8.957063e+05   \n",
       "1689                  0               9              NaN         1.394568e+06   \n",
       "1690                  0               8             84.0         6.282316e+05   \n",
       "\n",
       "      TotalGHGEmissions  Data_construction_1  Surface_total_GFA  ...  \\\n",
       "0             16870.980                    2      494835.000000  ...   \n",
       "1               198.340                    4      474173.933333  ...   \n",
       "2               209.410                    4       36000.000000  ...   \n",
       "3               147.820                    6      274304.315232  ...   \n",
       "4                71.060                    9       37327.000000  ...   \n",
       "...                 ...                  ...                ...  ...   \n",
       "1686             46.895                    0       40278.921508  ...   \n",
       "1687            212.195                    0      596318.933379  ...   \n",
       "1688             11.155                    0       87808.417144  ...   \n",
       "1689              9.725                    0       55840.193820  ...   \n",
       "1690              4.380                    0       35230.347400  ...   \n",
       "\n",
       "      ThirdLargestPropertyUseType_personal services (health/beauty, dry cleaning, etc)  \\\n",
       "0                                                     0                                  \n",
       "1                                                     0                                  \n",
       "2                                                     0                                  \n",
       "3                                                     0                                  \n",
       "4                                                     0                                  \n",
       "...                                                 ...                                  \n",
       "1686                                                  0                                  \n",
       "1687                                                  0                                  \n",
       "1688                                                  0                                  \n",
       "1689                                                  0                                  \n",
       "1690                                                  0                                  \n",
       "\n",
       "      ThirdLargestPropertyUseType_pre-school/daycare  \\\n",
       "0                                                  0   \n",
       "1                                                  0   \n",
       "2                                                  0   \n",
       "3                                                  0   \n",
       "4                                                  0   \n",
       "...                                              ...   \n",
       "1686                                               0   \n",
       "1687                                               0   \n",
       "1688                                               0   \n",
       "1689                                               0   \n",
       "1690                                               0   \n",
       "\n",
       "      ThirdLargestPropertyUseType_refrigerated warehouse  \\\n",
       "0                                                     0    \n",
       "1                                                     0    \n",
       "2                                                     0    \n",
       "3                                                     0    \n",
       "4                                                     0    \n",
       "...                                                 ...    \n",
       "1686                                                  0    \n",
       "1687                                                  0    \n",
       "1688                                                  0    \n",
       "1689                                                  0    \n",
       "1690                                                  0    \n",
       "\n",
       "      ThirdLargestPropertyUseType_restaurant  \\\n",
       "0                                          0   \n",
       "1                                          0   \n",
       "2                                          0   \n",
       "3                                          0   \n",
       "4                                          0   \n",
       "...                                      ...   \n",
       "1686                                       0   \n",
       "1687                                       0   \n",
       "1688                                       0   \n",
       "1689                                       0   \n",
       "1690                                       0   \n",
       "\n",
       "      ThirdLargestPropertyUseType_retail store  \\\n",
       "0                                            0   \n",
       "1                                            0   \n",
       "2                                            0   \n",
       "3                                            0   \n",
       "4                                            0   \n",
       "...                                        ...   \n",
       "1686                                         0   \n",
       "1687                                         0   \n",
       "1688                                         0   \n",
       "1689                                         0   \n",
       "1690                                         0   \n",
       "\n",
       "      ThirdLargestPropertyUseType_self-storage facility  \\\n",
       "0                                                     0   \n",
       "1                                                     0   \n",
       "2                                                     0   \n",
       "3                                                     0   \n",
       "4                                                     0   \n",
       "...                                                 ...   \n",
       "1686                                                  0   \n",
       "1687                                                  0   \n",
       "1688                                                  0   \n",
       "1689                                                  0   \n",
       "1690                                                  0   \n",
       "\n",
       "      ThirdLargestPropertyUseType_social/meeting hall  \\\n",
       "0                                                   0   \n",
       "1                                                   0   \n",
       "2                                                   0   \n",
       "3                                                   0   \n",
       "4                                                   0   \n",
       "...                                               ...   \n",
       "1686                                                0   \n",
       "1687                                                0   \n",
       "1688                                                0   \n",
       "1689                                                0   \n",
       "1690                                                0   \n",
       "\n",
       "      ThirdLargestPropertyUseType_supermarket/grocery store  \\\n",
       "0                                                     0       \n",
       "1                                                     0       \n",
       "2                                                     0       \n",
       "3                                                     0       \n",
       "4                                                     0       \n",
       "...                                                 ...       \n",
       "1686                                                  0       \n",
       "1687                                                  0       \n",
       "1688                                                  0       \n",
       "1689                                                  0       \n",
       "1690                                                  0       \n",
       "\n",
       "      ThirdLargestPropertyUseType_swimming pool  \\\n",
       "0                                             0   \n",
       "1                                             0   \n",
       "2                                             0   \n",
       "3                                             0   \n",
       "4                                             0   \n",
       "...                                         ...   \n",
       "1686                                          0   \n",
       "1687                                          0   \n",
       "1688                                          0   \n",
       "1689                                          0   \n",
       "1690                                          0   \n",
       "\n",
       "      ThirdLargestPropertyUseType_worship facility  \n",
       "0                                                0  \n",
       "1                                                0  \n",
       "2                                                0  \n",
       "3                                                0  \n",
       "4                                                0  \n",
       "...                                            ...  \n",
       "1686                                             0  \n",
       "1687                                             0  \n",
       "1688                                             0  \n",
       "1689                                             0  \n",
       "1690                                             0  \n",
       "\n",
       "[1691 rows x 185 columns]"
      ]
     },
     "execution_count": 11,
     "metadata": {},
     "output_type": "execute_result"
    }
   ],
   "source": [
    "data"
   ]
  },
  {
   "cell_type": "markdown",
   "metadata": {},
   "source": [
    "### RobustScaler"
   ]
  },
  {
   "cell_type": "code",
   "execution_count": 12,
   "metadata": {},
   "outputs": [],
   "source": [
    "# Nos données sont trop non-dimensionnées \n",
    "rb=RobustScaler()\n"
   ]
  },
  {
   "cell_type": "code",
   "execution_count": 13,
   "metadata": {},
   "outputs": [],
   "source": [
    "data_rob =rb.fit_transform(data[['Surface_total_GFA']])"
   ]
  },
  {
   "cell_type": "code",
   "execution_count": 14,
   "metadata": {},
   "outputs": [],
   "source": [
    "data_rob_num = pd.DataFrame(data=data_rob,columns=['Surface_total_GFA'])"
   ]
  },
  {
   "cell_type": "code",
   "execution_count": 15,
   "metadata": {},
   "outputs": [],
   "source": [
    "data.drop(columns='Surface_total_GFA', inplace=True)"
   ]
  },
  {
   "cell_type": "code",
   "execution_count": 16,
   "metadata": {},
   "outputs": [],
   "source": [
    "data = pd.concat([data_rob_num,data],axis=1)"
   ]
  },
  {
   "cell_type": "code",
   "execution_count": 17,
   "metadata": {},
   "outputs": [
    {
     "data": {
      "text/html": [
       "<div>\n",
       "<style scoped>\n",
       "    .dataframe tbody tr th:only-of-type {\n",
       "        vertical-align: middle;\n",
       "    }\n",
       "\n",
       "    .dataframe tbody tr th {\n",
       "        vertical-align: top;\n",
       "    }\n",
       "\n",
       "    .dataframe thead th {\n",
       "        text-align: right;\n",
       "    }\n",
       "</style>\n",
       "<table border=\"1\" class=\"dataframe\">\n",
       "  <thead>\n",
       "    <tr style=\"text-align: right;\">\n",
       "      <th></th>\n",
       "      <th>Surface_total_GFA</th>\n",
       "      <th>OSEBuildingID</th>\n",
       "      <th>Neighborhood</th>\n",
       "      <th>YearsENERGYSTARCertified</th>\n",
       "      <th>NumberofBuildings</th>\n",
       "      <th>NumberofFloors</th>\n",
       "      <th>ENERGYSTARScore</th>\n",
       "      <th>SiteEnergyUse(kBtu)</th>\n",
       "      <th>TotalGHGEmissions</th>\n",
       "      <th>Data_construction_1</th>\n",
       "      <th>...</th>\n",
       "      <th>ThirdLargestPropertyUseType_personal services (health/beauty, dry cleaning, etc)</th>\n",
       "      <th>ThirdLargestPropertyUseType_pre-school/daycare</th>\n",
       "      <th>ThirdLargestPropertyUseType_refrigerated warehouse</th>\n",
       "      <th>ThirdLargestPropertyUseType_restaurant</th>\n",
       "      <th>ThirdLargestPropertyUseType_retail store</th>\n",
       "      <th>ThirdLargestPropertyUseType_self-storage facility</th>\n",
       "      <th>ThirdLargestPropertyUseType_social/meeting hall</th>\n",
       "      <th>ThirdLargestPropertyUseType_supermarket/grocery store</th>\n",
       "      <th>ThirdLargestPropertyUseType_swimming pool</th>\n",
       "      <th>ThirdLargestPropertyUseType_worship facility</th>\n",
       "    </tr>\n",
       "  </thead>\n",
       "  <tbody>\n",
       "    <tr>\n",
       "      <th>0</th>\n",
       "      <td>5.651494</td>\n",
       "      <td>43</td>\n",
       "      <td>6</td>\n",
       "      <td>0</td>\n",
       "      <td>0</td>\n",
       "      <td>9</td>\n",
       "      <td>8.0</td>\n",
       "      <td>4.483853e+08</td>\n",
       "      <td>16870.98</td>\n",
       "      <td>2</td>\n",
       "      <td>...</td>\n",
       "      <td>0</td>\n",
       "      <td>0</td>\n",
       "      <td>0</td>\n",
       "      <td>0</td>\n",
       "      <td>0</td>\n",
       "      <td>0</td>\n",
       "      <td>0</td>\n",
       "      <td>0</td>\n",
       "      <td>0</td>\n",
       "      <td>0</td>\n",
       "    </tr>\n",
       "    <tr>\n",
       "      <th>1</th>\n",
       "      <td>5.387460</td>\n",
       "      <td>364</td>\n",
       "      <td>10</td>\n",
       "      <td>0</td>\n",
       "      <td>0</td>\n",
       "      <td>30</td>\n",
       "      <td>77.0</td>\n",
       "      <td>2.845044e+07</td>\n",
       "      <td>198.34</td>\n",
       "      <td>4</td>\n",
       "      <td>...</td>\n",
       "      <td>0</td>\n",
       "      <td>0</td>\n",
       "      <td>0</td>\n",
       "      <td>0</td>\n",
       "      <td>0</td>\n",
       "      <td>0</td>\n",
       "      <td>0</td>\n",
       "      <td>0</td>\n",
       "      <td>0</td>\n",
       "      <td>0</td>\n",
       "    </tr>\n",
       "    <tr>\n",
       "      <th>2</th>\n",
       "      <td>-0.212092</td>\n",
       "      <td>365</td>\n",
       "      <td>10</td>\n",
       "      <td>4</td>\n",
       "      <td>0</td>\n",
       "      <td>12</td>\n",
       "      <td>96.0</td>\n",
       "      <td>3.003849e+07</td>\n",
       "      <td>209.41</td>\n",
       "      <td>4</td>\n",
       "      <td>...</td>\n",
       "      <td>0</td>\n",
       "      <td>0</td>\n",
       "      <td>0</td>\n",
       "      <td>0</td>\n",
       "      <td>0</td>\n",
       "      <td>0</td>\n",
       "      <td>0</td>\n",
       "      <td>0</td>\n",
       "      <td>0</td>\n",
       "      <td>0</td>\n",
       "    </tr>\n",
       "    <tr>\n",
       "      <th>3</th>\n",
       "      <td>2.833268</td>\n",
       "      <td>750</td>\n",
       "      <td>4</td>\n",
       "      <td>4</td>\n",
       "      <td>0</td>\n",
       "      <td>14</td>\n",
       "      <td>82.0</td>\n",
       "      <td>1.654055e+07</td>\n",
       "      <td>147.82</td>\n",
       "      <td>6</td>\n",
       "      <td>...</td>\n",
       "      <td>0</td>\n",
       "      <td>0</td>\n",
       "      <td>0</td>\n",
       "      <td>0</td>\n",
       "      <td>0</td>\n",
       "      <td>0</td>\n",
       "      <td>0</td>\n",
       "      <td>0</td>\n",
       "      <td>0</td>\n",
       "      <td>0</td>\n",
       "    </tr>\n",
       "    <tr>\n",
       "      <th>4</th>\n",
       "      <td>-0.195134</td>\n",
       "      <td>19694</td>\n",
       "      <td>1</td>\n",
       "      <td>0</td>\n",
       "      <td>0</td>\n",
       "      <td>8</td>\n",
       "      <td>92.0</td>\n",
       "      <td>1.967476e+06</td>\n",
       "      <td>71.06</td>\n",
       "      <td>9</td>\n",
       "      <td>...</td>\n",
       "      <td>0</td>\n",
       "      <td>0</td>\n",
       "      <td>0</td>\n",
       "      <td>0</td>\n",
       "      <td>0</td>\n",
       "      <td>0</td>\n",
       "      <td>0</td>\n",
       "      <td>0</td>\n",
       "      <td>0</td>\n",
       "      <td>0</td>\n",
       "    </tr>\n",
       "  </tbody>\n",
       "</table>\n",
       "<p>5 rows × 185 columns</p>\n",
       "</div>"
      ],
      "text/plain": [
       "   Surface_total_GFA  OSEBuildingID  Neighborhood  YearsENERGYSTARCertified  \\\n",
       "0           5.651494             43             6                         0   \n",
       "1           5.387460            364            10                         0   \n",
       "2          -0.212092            365            10                         4   \n",
       "3           2.833268            750             4                         4   \n",
       "4          -0.195134          19694             1                         0   \n",
       "\n",
       "   NumberofBuildings  NumberofFloors  ENERGYSTARScore  SiteEnergyUse(kBtu)  \\\n",
       "0                  0               9              8.0         4.483853e+08   \n",
       "1                  0              30             77.0         2.845044e+07   \n",
       "2                  0              12             96.0         3.003849e+07   \n",
       "3                  0              14             82.0         1.654055e+07   \n",
       "4                  0               8             92.0         1.967476e+06   \n",
       "\n",
       "   TotalGHGEmissions  Data_construction_1  ...  \\\n",
       "0           16870.98                    2  ...   \n",
       "1             198.34                    4  ...   \n",
       "2             209.41                    4  ...   \n",
       "3             147.82                    6  ...   \n",
       "4              71.06                    9  ...   \n",
       "\n",
       "   ThirdLargestPropertyUseType_personal services (health/beauty, dry cleaning, etc)  \\\n",
       "0                                                  0                                  \n",
       "1                                                  0                                  \n",
       "2                                                  0                                  \n",
       "3                                                  0                                  \n",
       "4                                                  0                                  \n",
       "\n",
       "   ThirdLargestPropertyUseType_pre-school/daycare  \\\n",
       "0                                               0   \n",
       "1                                               0   \n",
       "2                                               0   \n",
       "3                                               0   \n",
       "4                                               0   \n",
       "\n",
       "   ThirdLargestPropertyUseType_refrigerated warehouse  \\\n",
       "0                                                  0    \n",
       "1                                                  0    \n",
       "2                                                  0    \n",
       "3                                                  0    \n",
       "4                                                  0    \n",
       "\n",
       "   ThirdLargestPropertyUseType_restaurant  \\\n",
       "0                                       0   \n",
       "1                                       0   \n",
       "2                                       0   \n",
       "3                                       0   \n",
       "4                                       0   \n",
       "\n",
       "   ThirdLargestPropertyUseType_retail store  \\\n",
       "0                                         0   \n",
       "1                                         0   \n",
       "2                                         0   \n",
       "3                                         0   \n",
       "4                                         0   \n",
       "\n",
       "   ThirdLargestPropertyUseType_self-storage facility  \\\n",
       "0                                                  0   \n",
       "1                                                  0   \n",
       "2                                                  0   \n",
       "3                                                  0   \n",
       "4                                                  0   \n",
       "\n",
       "   ThirdLargestPropertyUseType_social/meeting hall  \\\n",
       "0                                                0   \n",
       "1                                                0   \n",
       "2                                                0   \n",
       "3                                                0   \n",
       "4                                                0   \n",
       "\n",
       "   ThirdLargestPropertyUseType_supermarket/grocery store  \\\n",
       "0                                                  0       \n",
       "1                                                  0       \n",
       "2                                                  0       \n",
       "3                                                  0       \n",
       "4                                                  0       \n",
       "\n",
       "   ThirdLargestPropertyUseType_swimming pool  \\\n",
       "0                                          0   \n",
       "1                                          0   \n",
       "2                                          0   \n",
       "3                                          0   \n",
       "4                                          0   \n",
       "\n",
       "   ThirdLargestPropertyUseType_worship facility  \n",
       "0                                             0  \n",
       "1                                             0  \n",
       "2                                             0  \n",
       "3                                             0  \n",
       "4                                             0  \n",
       "\n",
       "[5 rows x 185 columns]"
      ]
     },
     "execution_count": 17,
     "metadata": {},
     "output_type": "execute_result"
    }
   ],
   "source": [
    "data.head()"
   ]
  },
  {
   "cell_type": "markdown",
   "metadata": {},
   "source": [
    "## Modèle de prédiction d'energie (\"SiteEnergyUse(kBtu)\")"
   ]
  },
  {
   "cell_type": "code",
   "execution_count": 18,
   "metadata": {},
   "outputs": [],
   "source": [
    "colonne_targets= data[['ENERGYSTARScore','OSEBuildingID','SiteEnergyUse(kBtu)','TotalGHGEmissions']]"
   ]
  },
  {
   "cell_type": "code",
   "execution_count": 19,
   "metadata": {},
   "outputs": [
    {
     "data": {
      "text/html": [
       "<div>\n",
       "<style scoped>\n",
       "    .dataframe tbody tr th:only-of-type {\n",
       "        vertical-align: middle;\n",
       "    }\n",
       "\n",
       "    .dataframe tbody tr th {\n",
       "        vertical-align: top;\n",
       "    }\n",
       "\n",
       "    .dataframe thead th {\n",
       "        text-align: right;\n",
       "    }\n",
       "</style>\n",
       "<table border=\"1\" class=\"dataframe\">\n",
       "  <thead>\n",
       "    <tr style=\"text-align: right;\">\n",
       "      <th></th>\n",
       "      <th>ENERGYSTARScore</th>\n",
       "      <th>OSEBuildingID</th>\n",
       "      <th>SiteEnergyUse(kBtu)</th>\n",
       "      <th>TotalGHGEmissions</th>\n",
       "    </tr>\n",
       "  </thead>\n",
       "  <tbody>\n",
       "    <tr>\n",
       "      <th>count</th>\n",
       "      <td>1152.000000</td>\n",
       "      <td>1691.000000</td>\n",
       "      <td>1.691000e+03</td>\n",
       "      <td>1691.000000</td>\n",
       "    </tr>\n",
       "    <tr>\n",
       "      <th>mean</th>\n",
       "      <td>64.906250</td>\n",
       "      <td>16334.847428</td>\n",
       "      <td>7.900853e+06</td>\n",
       "      <td>177.522181</td>\n",
       "    </tr>\n",
       "    <tr>\n",
       "      <th>std</th>\n",
       "      <td>28.044605</td>\n",
       "      <td>13795.238112</td>\n",
       "      <td>2.143640e+07</td>\n",
       "      <td>694.197128</td>\n",
       "    </tr>\n",
       "    <tr>\n",
       "      <th>min</th>\n",
       "      <td>1.000000</td>\n",
       "      <td>1.000000</td>\n",
       "      <td>1.697950e+04</td>\n",
       "      <td>0.120000</td>\n",
       "    </tr>\n",
       "    <tr>\n",
       "      <th>25%</th>\n",
       "      <td>46.500000</td>\n",
       "      <td>584.500000</td>\n",
       "      <td>1.241360e+06</td>\n",
       "      <td>20.232500</td>\n",
       "    </tr>\n",
       "    <tr>\n",
       "      <th>50%</th>\n",
       "      <td>72.250000</td>\n",
       "      <td>21150.000000</td>\n",
       "      <td>2.556121e+06</td>\n",
       "      <td>50.405000</td>\n",
       "    </tr>\n",
       "    <tr>\n",
       "      <th>75%</th>\n",
       "      <td>88.000000</td>\n",
       "      <td>24601.500000</td>\n",
       "      <td>6.956744e+06</td>\n",
       "      <td>140.072500</td>\n",
       "    </tr>\n",
       "    <tr>\n",
       "      <th>max</th>\n",
       "      <td>100.000000</td>\n",
       "      <td>50226.000000</td>\n",
       "      <td>4.483853e+08</td>\n",
       "      <td>16870.980000</td>\n",
       "    </tr>\n",
       "  </tbody>\n",
       "</table>\n",
       "</div>"
      ],
      "text/plain": [
       "       ENERGYSTARScore  OSEBuildingID  SiteEnergyUse(kBtu)  TotalGHGEmissions\n",
       "count      1152.000000    1691.000000         1.691000e+03        1691.000000\n",
       "mean         64.906250   16334.847428         7.900853e+06         177.522181\n",
       "std          28.044605   13795.238112         2.143640e+07         694.197128\n",
       "min           1.000000       1.000000         1.697950e+04           0.120000\n",
       "25%          46.500000     584.500000         1.241360e+06          20.232500\n",
       "50%          72.250000   21150.000000         2.556121e+06          50.405000\n",
       "75%          88.000000   24601.500000         6.956744e+06         140.072500\n",
       "max         100.000000   50226.000000         4.483853e+08       16870.980000"
      ]
     },
     "execution_count": 19,
     "metadata": {},
     "output_type": "execute_result"
    }
   ],
   "source": [
    "colonne_targets.describe()"
   ]
  },
  {
   "cell_type": "code",
   "execution_count": 20,
   "metadata": {},
   "outputs": [],
   "source": [
    "# Preparation du dataset et target\n",
    "X = data.drop(columns=colonne_targets)\n",
    "y_energie = colonne_targets['SiteEnergyUse(kBtu)']"
   ]
  },
  {
   "cell_type": "code",
   "execution_count": 21,
   "metadata": {},
   "outputs": [
    {
     "data": {
      "text/plain": [
       "((1691, 181), (1691,))"
      ]
     },
     "execution_count": 21,
     "metadata": {},
     "output_type": "execute_result"
    }
   ],
   "source": [
    "X.shape, y_energie.shape"
   ]
  },
  {
   "cell_type": "markdown",
   "metadata": {},
   "source": [
    "### FEATURE SELECTION"
   ]
  },
  {
   "cell_type": "code",
   "execution_count": 22,
   "metadata": {},
   "outputs": [],
   "source": [
    "# Choisissons les features plus importantes pour notre target (min == 7)\n",
    "feature_selection_energie = RFECV(DecisionTreeRegressor(random_state=42),step=4,cv=5,min_features_to_select=7 )"
   ]
  },
  {
   "cell_type": "code",
   "execution_count": 23,
   "metadata": {},
   "outputs": [
    {
     "data": {
      "text/plain": [
       "RFECV(cv=5, estimator=DecisionTreeRegressor(random_state=42),\n",
       "      min_features_to_select=7, step=4)"
      ]
     },
     "execution_count": 23,
     "metadata": {},
     "output_type": "execute_result"
    }
   ],
   "source": [
    "feature_selection_energie.fit(X,y_energie)"
   ]
  },
  {
   "cell_type": "code",
   "execution_count": 24,
   "metadata": {},
   "outputs": [
    {
     "data": {
      "text/plain": [
       "Index(['Surface_total_GFA', 'Neighborhood', 'YearsENERGYSTARCertified',\n",
       "       'NumberofBuildings', 'NumberofFloors', 'Data_construction_1',\n",
       "       'BuildingType_nonresidential', 'BuildingType_nonresidential cos',\n",
       "       'PrimaryPropertyType_college/university',\n",
       "       'PrimaryPropertyType_hospital', 'PrimaryPropertyType_hotel',\n",
       "       'PrimaryPropertyType_k-12 school', 'PrimaryPropertyType_large office',\n",
       "       'PrimaryPropertyType_medical office',\n",
       "       'PrimaryPropertyType_mixed use property',\n",
       "       'PrimaryPropertyType_non-refrigerated warehouse',\n",
       "       'PrimaryPropertyType_other',\n",
       "       'PrimaryPropertyType_refrigerated warehouse',\n",
       "       'PrimaryPropertyType_restaurant', 'PrimaryPropertyType_retail store',\n",
       "       'PrimaryPropertyType_senior care community',\n",
       "       'PrimaryPropertyType_small- and mid-sized office',\n",
       "       'PrimaryPropertyType_supermarket/grocery store',\n",
       "       'PrimaryPropertyType_university',\n",
       "       'LargestPropertyUseType_convention center',\n",
       "       'LargestPropertyUseType_courthouse',\n",
       "       'LargestPropertyUseType_data center',\n",
       "       'LargestPropertyUseType_laboratory',\n",
       "       'LargestPropertyUseType_medical office',\n",
       "       'LargestPropertyUseType_museum',\n",
       "       'LargestPropertyUseType_non-refrigerated warehouse',\n",
       "       'LargestPropertyUseType_office', 'LargestPropertyUseType_other',\n",
       "       'LargestPropertyUseType_other - education',\n",
       "       'LargestPropertyUseType_parking', 'LargestPropertyUseType_retail store',\n",
       "       'LargestPropertyUseType_self-storage facility',\n",
       "       'LargestPropertyUseType_senior care community',\n",
       "       'LargestPropertyUseType_small- and mid-sized office',\n",
       "       'LargestPropertyUseType_strip mall',\n",
       "       'LargestPropertyUseType_urgent care/clinic/other outpatient',\n",
       "       'SecondLargestPropertyUseType_data center',\n",
       "       'SecondLargestPropertyUseType_laboratory',\n",
       "       'SecondLargestPropertyUseType_office',\n",
       "       'SecondLargestPropertyUseType_other - services',\n",
       "       'SecondLargestPropertyUseType_parking',\n",
       "       'SecondLargestPropertyUseType_pas de piece',\n",
       "       'SecondLargestPropertyUseType_restaurant',\n",
       "       'SecondLargestPropertyUseType_retail store',\n",
       "       'ThirdLargestPropertyUseType_convenience store without gas station',\n",
       "       'ThirdLargestPropertyUseType_data center',\n",
       "       'ThirdLargestPropertyUseType_food service',\n",
       "       'ThirdLargestPropertyUseType_laboratory',\n",
       "       'ThirdLargestPropertyUseType_other',\n",
       "       'ThirdLargestPropertyUseType_parking',\n",
       "       'ThirdLargestPropertyUseType_pas de piece',\n",
       "       'ThirdLargestPropertyUseType_swimming pool'],\n",
       "      dtype='object')"
      ]
     },
     "execution_count": 24,
     "metadata": {},
     "output_type": "execute_result"
    }
   ],
   "source": [
    "feature_selection_energie.get_support()\n",
    "\n",
    "features_energie = X.columns[feature_selection_energie.get_support()]\n",
    "features_energie"
   ]
  },
  {
   "cell_type": "code",
   "execution_count": 25,
   "metadata": {},
   "outputs": [
    {
     "data": {
      "text/plain": [
       "(1691, 57)"
      ]
     },
     "execution_count": 25,
     "metadata": {},
     "output_type": "execute_result"
    }
   ],
   "source": [
    "# Finalement on va essayer de predir avec 57 features\n",
    "X_energie = X[features_energie]\n",
    "X_energie.shape"
   ]
  },
  {
   "cell_type": "markdown",
   "metadata": {},
   "source": [
    "## Min Max Scaler"
   ]
  },
  {
   "cell_type": "code",
   "execution_count": 26,
   "metadata": {},
   "outputs": [],
   "source": [
    "\n",
    "min_max = MinMaxScaler()\n"
   ]
  },
  {
   "cell_type": "code",
   "execution_count": 27,
   "metadata": {},
   "outputs": [],
   "source": [
    "\n",
    "min_max_energie = min_max.fit_transform(X_energie)\n"
   ]
  },
  {
   "cell_type": "code",
   "execution_count": 28,
   "metadata": {},
   "outputs": [],
   "source": [
    "list_of_models = [Lasso(random_state=42),Ridge(random_state=42),\n",
    "                 ElasticNet(random_state=42),RandomForestRegressor(random_state=42),\n",
    "                  SVR(),GradientBoostingRegressor(random_state=42)]"
   ]
  },
  {
   "cell_type": "code",
   "execution_count": 29,
   "metadata": {},
   "outputs": [],
   "source": [
    "X_train,X_test,y_train,y_test = train_test_split(min_max_energie,y_energie.values,test_size = 0.31)\n"
   ]
  },
  {
   "cell_type": "markdown",
   "metadata": {},
   "source": [
    "### Rajoutons les hyperparamètres pour améliorer les models à l'aide de GridSerchCV"
   ]
  },
  {
   "cell_type": "markdown",
   "metadata": {},
   "source": [
    "### Lasso"
   ]
  },
  {
   "cell_type": "code",
   "execution_count": 30,
   "metadata": {},
   "outputs": [],
   "source": [
    "parameters = {'alpha' : np.logspace(-5,5,35),\n",
    "              'fit_intercept':[True,False],\n",
    "              'precompute':[True,False],\n",
    "              'tol':[0.1,0.01,0.001,0.0001,0.00001],}"
   ]
  },
  {
   "cell_type": "code",
   "execution_count": 31,
   "metadata": {},
   "outputs": [],
   "source": [
    "start_time = datetime.now()\n"
   ]
  },
  {
   "cell_type": "code",
   "execution_count": 32,
   "metadata": {},
   "outputs": [
    {
     "name": "stdout",
     "output_type": "stream",
     "text": [
      "0:00:41.326471\n"
     ]
    }
   ],
   "source": [
    "lasso_grid = GridSearchCV(estimator = Lasso(random_state=42), \n",
    "                      param_grid = parameters,\n",
    "                      scoring = 'neg_median_absolute_error',\n",
    "                      cv=5\n",
    "                     )\n",
    "\n",
    "lasso_grid.fit(X_train, y_train)\n",
    "end_time = datetime.now()\n",
    "Diff_time=(end_time - start_time)\n",
    "print(Diff_time)\n"
   ]
  },
  {
   "cell_type": "code",
   "execution_count": 33,
   "metadata": {},
   "outputs": [
    {
     "data": {
      "text/plain": [
       "{'alpha': 25808.615404180768,\n",
       " 'fit_intercept': True,\n",
       " 'precompute': False,\n",
       " 'tol': 0.1}"
      ]
     },
     "execution_count": 33,
     "metadata": {},
     "output_type": "execute_result"
    }
   ],
   "source": [
    "lasso_grid.best_params_"
   ]
  },
  {
   "cell_type": "code",
   "execution_count": 34,
   "metadata": {},
   "outputs": [],
   "source": [
    "results = pd.DataFrame({})"
   ]
  },
  {
   "cell_type": "code",
   "execution_count": 35,
   "metadata": {},
   "outputs": [
    {
     "data": {
      "text/html": [
       "<div>\n",
       "<style scoped>\n",
       "    .dataframe tbody tr th:only-of-type {\n",
       "        vertical-align: middle;\n",
       "    }\n",
       "\n",
       "    .dataframe tbody tr th {\n",
       "        vertical-align: top;\n",
       "    }\n",
       "\n",
       "    .dataframe thead th {\n",
       "        text-align: right;\n",
       "    }\n",
       "</style>\n",
       "<table border=\"1\" class=\"dataframe\">\n",
       "  <thead>\n",
       "    <tr style=\"text-align: right;\">\n",
       "      <th></th>\n",
       "      <th>Modèle</th>\n",
       "      <th>Params par Défaut: erreur</th>\n",
       "      <th>Hyperparamètre: erreur</th>\n",
       "      <th>Temps(sec)</th>\n",
       "    </tr>\n",
       "  </thead>\n",
       "  <tbody>\n",
       "    <tr>\n",
       "      <th>0</th>\n",
       "      <td>Lasso</td>\n",
       "      <td>1.19</td>\n",
       "      <td>1.17</td>\n",
       "      <td>41.33</td>\n",
       "    </tr>\n",
       "  </tbody>\n",
       "</table>\n",
       "</div>"
      ],
      "text/plain": [
       "  Modèle  Params par Défaut: erreur  Hyperparamètre: erreur  Temps(sec)\n",
       "0  Lasso                       1.19                    1.17       41.33"
      ]
     },
     "execution_count": 35,
     "metadata": {},
     "output_type": "execute_result"
    }
   ],
   "source": [
    "\n",
    "modele=Lasso(random_state=42)\n",
    "modele.fit(X_train,y_train)\n",
    "y_pred=modele.predict(X_test)\n",
    "results = results.append(pd.DataFrame({\n",
    "    'Modèle' : ['Lasso'],\n",
    "    'Params par Défaut: erreur' :[np.round(mean_squared_log_error(y_test,np.abs(y_pred)),2)],\n",
    "    'Hyperparamètre: erreur' : [np.round(mean_squared_log_error(y_test,np.abs(lasso_grid.predict(X_test))),2)],\n",
    "    'Temps(sec)' :[np.round(Diff_time.total_seconds(),2)]}),ignore_index=True)\n",
    "                         \n",
    "results"
   ]
  },
  {
   "cell_type": "code",
   "execution_count": null,
   "metadata": {},
   "outputs": [],
   "source": []
  },
  {
   "cell_type": "markdown",
   "metadata": {},
   "source": [
    "### Ridge"
   ]
  },
  {
   "cell_type": "code",
   "execution_count": 36,
   "metadata": {},
   "outputs": [],
   "source": [
    "start_time = datetime.now()\n",
    "parameters = {'alpha' : np.logspace(-5,5,35),\n",
    "              'fit_intercept':[True,False],\n",
    "              'tol':[0.1,0.01,0.001,0.0001,0.00001],\n",
    "              'solver':['auto']}\n"
   ]
  },
  {
   "cell_type": "code",
   "execution_count": 37,
   "metadata": {},
   "outputs": [
    {
     "name": "stdout",
     "output_type": "stream",
     "text": [
      "0:00:05.532435\n"
     ]
    }
   ],
   "source": [
    "ridge_grid = GridSearchCV(estimator = Ridge(random_state=42), \n",
    "                      param_grid = parameters,\n",
    "                      scoring = 'neg_median_absolute_error',\n",
    "                      cv=5, \n",
    "                     )\n",
    "\n",
    "ridge_grid.fit(X_train, y_train)\n",
    "end_time = datetime.now()\n",
    "Diff_time=end_time - start_time\n",
    "print(Diff_time)"
   ]
  },
  {
   "cell_type": "code",
   "execution_count": 38,
   "metadata": {},
   "outputs": [
    {
     "data": {
      "text/plain": [
       "{'alpha': 6660.846290809168,\n",
       " 'fit_intercept': False,\n",
       " 'solver': 'auto',\n",
       " 'tol': 0.1}"
      ]
     },
     "execution_count": 38,
     "metadata": {},
     "output_type": "execute_result"
    }
   ],
   "source": [
    "ridge_grid.best_params_"
   ]
  },
  {
   "cell_type": "code",
   "execution_count": 39,
   "metadata": {},
   "outputs": [
    {
     "data": {
      "text/html": [
       "<div>\n",
       "<style scoped>\n",
       "    .dataframe tbody tr th:only-of-type {\n",
       "        vertical-align: middle;\n",
       "    }\n",
       "\n",
       "    .dataframe tbody tr th {\n",
       "        vertical-align: top;\n",
       "    }\n",
       "\n",
       "    .dataframe thead th {\n",
       "        text-align: right;\n",
       "    }\n",
       "</style>\n",
       "<table border=\"1\" class=\"dataframe\">\n",
       "  <thead>\n",
       "    <tr style=\"text-align: right;\">\n",
       "      <th></th>\n",
       "      <th>Modèle</th>\n",
       "      <th>Params par Défaut: erreur</th>\n",
       "      <th>Hyperparamètre: erreur</th>\n",
       "      <th>Temps(sec)</th>\n",
       "    </tr>\n",
       "  </thead>\n",
       "  <tbody>\n",
       "    <tr>\n",
       "      <th>0</th>\n",
       "      <td>Lasso</td>\n",
       "      <td>1.19</td>\n",
       "      <td>1.17</td>\n",
       "      <td>41.33</td>\n",
       "    </tr>\n",
       "    <tr>\n",
       "      <th>1</th>\n",
       "      <td>Ridge</td>\n",
       "      <td>1.27</td>\n",
       "      <td>2.11</td>\n",
       "      <td>5.53</td>\n",
       "    </tr>\n",
       "  </tbody>\n",
       "</table>\n",
       "</div>"
      ],
      "text/plain": [
       "  Modèle  Params par Défaut: erreur  Hyperparamètre: erreur  Temps(sec)\n",
       "0  Lasso                       1.19                    1.17       41.33\n",
       "1  Ridge                       1.27                    2.11        5.53"
      ]
     },
     "execution_count": 39,
     "metadata": {},
     "output_type": "execute_result"
    }
   ],
   "source": [
    "\n",
    "modele=Ridge(random_state=42)\n",
    "modele.fit(X_train,y_train)\n",
    "y_pred=modele.predict(X_test)\n",
    "results = results.append(pd.DataFrame({\n",
    "    'Modèle' : ['Ridge'],\n",
    "    'Params par Défaut: erreur' :[np.round(mean_squared_log_error(y_test,np.abs(y_pred)),2)],\n",
    "    'Hyperparamètre: erreur' : [np.round(mean_squared_log_error(y_test,np.abs(ridge_grid.predict(X_test))),2)],\n",
    "    'Temps(sec)' :[np.round(Diff_time.total_seconds(),2)]}),ignore_index=True)\n",
    "                         \n",
    "results"
   ]
  },
  {
   "cell_type": "markdown",
   "metadata": {},
   "source": [
    "### Elastic Net"
   ]
  },
  {
   "cell_type": "code",
   "execution_count": 40,
   "metadata": {},
   "outputs": [],
   "source": [
    "\n",
    "parameters = {'tol' : [0.1,0.01,0.001,0.0001],\n",
    "              \"alpha\": [0.0001, 0.001, 0.01, 0.1, 1, 10, 100],\n",
    "              \"l1_ratio\": np.arange(0.0, 1.1, 0.1)}\n"
   ]
  },
  {
   "cell_type": "code",
   "execution_count": 41,
   "metadata": {},
   "outputs": [
    {
     "name": "stdout",
     "output_type": "stream",
     "text": [
      "0:00:32.772627\n"
     ]
    }
   ],
   "source": [
    "start_time = datetime.now()\n",
    "\n",
    "elastic_grid = GridSearchCV(estimator = ElasticNet(random_state=42), \n",
    "                      param_grid = parameters,\n",
    "                      scoring = 'neg_median_absolute_error',\n",
    "                      cv=5, \n",
    "                      \n",
    "                     )\n",
    "\n",
    "elastic_grid.fit(X_train, y_train)\n",
    "end_time = datetime.now()\n",
    "Diff_time=end_time - start_time\n",
    "print(Diff_time)"
   ]
  },
  {
   "cell_type": "code",
   "execution_count": 42,
   "metadata": {},
   "outputs": [
    {
     "data": {
      "text/plain": [
       "{'alpha': 0.0001, 'l1_ratio': 0.5, 'tol': 0.1}"
      ]
     },
     "execution_count": 42,
     "metadata": {},
     "output_type": "execute_result"
    }
   ],
   "source": [
    "\n",
    "elastic_grid.best_params_"
   ]
  },
  {
   "cell_type": "code",
   "execution_count": 43,
   "metadata": {},
   "outputs": [
    {
     "data": {
      "text/html": [
       "<div>\n",
       "<style scoped>\n",
       "    .dataframe tbody tr th:only-of-type {\n",
       "        vertical-align: middle;\n",
       "    }\n",
       "\n",
       "    .dataframe tbody tr th {\n",
       "        vertical-align: top;\n",
       "    }\n",
       "\n",
       "    .dataframe thead th {\n",
       "        text-align: right;\n",
       "    }\n",
       "</style>\n",
       "<table border=\"1\" class=\"dataframe\">\n",
       "  <thead>\n",
       "    <tr style=\"text-align: right;\">\n",
       "      <th></th>\n",
       "      <th>Modèle</th>\n",
       "      <th>Params par Défaut: erreur</th>\n",
       "      <th>Hyperparamètre: erreur</th>\n",
       "      <th>Temps(sec)</th>\n",
       "    </tr>\n",
       "  </thead>\n",
       "  <tbody>\n",
       "    <tr>\n",
       "      <th>0</th>\n",
       "      <td>Lasso</td>\n",
       "      <td>1.19</td>\n",
       "      <td>1.17</td>\n",
       "      <td>41.33</td>\n",
       "    </tr>\n",
       "    <tr>\n",
       "      <th>1</th>\n",
       "      <td>Ridge</td>\n",
       "      <td>1.27</td>\n",
       "      <td>2.11</td>\n",
       "      <td>5.53</td>\n",
       "    </tr>\n",
       "    <tr>\n",
       "      <th>2</th>\n",
       "      <td>ElasticNet</td>\n",
       "      <td>2.32</td>\n",
       "      <td>1.26</td>\n",
       "      <td>32.77</td>\n",
       "    </tr>\n",
       "  </tbody>\n",
       "</table>\n",
       "</div>"
      ],
      "text/plain": [
       "       Modèle  Params par Défaut: erreur  Hyperparamètre: erreur  Temps(sec)\n",
       "0       Lasso                       1.19                    1.17       41.33\n",
       "1       Ridge                       1.27                    2.11        5.53\n",
       "2  ElasticNet                       2.32                    1.26       32.77"
      ]
     },
     "execution_count": 43,
     "metadata": {},
     "output_type": "execute_result"
    }
   ],
   "source": [
    "\n",
    "modele=ElasticNet(random_state=42)\n",
    "modele.fit(X_train,y_train)\n",
    "y_pred=modele.predict(X_test)\n",
    "results = results.append(pd.DataFrame({\n",
    "    'Modèle' : ['ElasticNet'],\n",
    "    'Params par Défaut: erreur' :[np.round(mean_squared_log_error(y_test,np.abs(y_pred)),2)],\n",
    "    'Hyperparamètre: erreur' : [np.round(mean_squared_log_error(y_test,np.abs(elastic_grid.predict(X_test))),2)],\n",
    "    'Temps(sec)' :[np.round(Diff_time.total_seconds(),2)]}),ignore_index=True)\n",
    "                         \n",
    "results"
   ]
  },
  {
   "cell_type": "markdown",
   "metadata": {},
   "source": [
    "### Random Forest Regressor"
   ]
  },
  {
   "cell_type": "code",
   "execution_count": 44,
   "metadata": {},
   "outputs": [],
   "source": [
    "parameters = {\n",
    "    'n_estimators' : [100,120,150], \n",
    "\n",
    "    'min_samples_leaf' : np.arange(1, 4),\n",
    "    'min_samples_split':np.arange(2, 5),}"
   ]
  },
  {
   "cell_type": "code",
   "execution_count": 45,
   "metadata": {},
   "outputs": [
    {
     "name": "stdout",
     "output_type": "stream",
     "text": [
      "0:01:27.882187\n"
     ]
    }
   ],
   "source": [
    "start_time = datetime.now()\n",
    "rfr_search = GridSearchCV(estimator=RandomForestRegressor(random_state=42),\n",
    "                               param_grid = parameters,\n",
    "                              scoring = 'neg_median_absolute_error', \n",
    "                               cv=5)\n",
    "\n",
    "rfr_search.fit(X_train, y_train)\n",
    "end_time = datetime.now()\n",
    "Diff_time=end_time - start_time\n",
    "print(Diff_time)"
   ]
  },
  {
   "cell_type": "code",
   "execution_count": 46,
   "metadata": {},
   "outputs": [
    {
     "data": {
      "text/plain": [
       "{'min_samples_leaf': 1, 'min_samples_split': 3, 'n_estimators': 100}"
      ]
     },
     "execution_count": 46,
     "metadata": {},
     "output_type": "execute_result"
    }
   ],
   "source": [
    "rfr_search.best_params_"
   ]
  },
  {
   "cell_type": "code",
   "execution_count": 47,
   "metadata": {},
   "outputs": [
    {
     "data": {
      "text/html": [
       "<div>\n",
       "<style scoped>\n",
       "    .dataframe tbody tr th:only-of-type {\n",
       "        vertical-align: middle;\n",
       "    }\n",
       "\n",
       "    .dataframe tbody tr th {\n",
       "        vertical-align: top;\n",
       "    }\n",
       "\n",
       "    .dataframe thead th {\n",
       "        text-align: right;\n",
       "    }\n",
       "</style>\n",
       "<table border=\"1\" class=\"dataframe\">\n",
       "  <thead>\n",
       "    <tr style=\"text-align: right;\">\n",
       "      <th></th>\n",
       "      <th>Modèle</th>\n",
       "      <th>Params par Défaut: erreur</th>\n",
       "      <th>Hyperparamètre: erreur</th>\n",
       "      <th>Temps(sec)</th>\n",
       "    </tr>\n",
       "  </thead>\n",
       "  <tbody>\n",
       "    <tr>\n",
       "      <th>0</th>\n",
       "      <td>Lasso</td>\n",
       "      <td>1.19</td>\n",
       "      <td>1.17</td>\n",
       "      <td>41.33</td>\n",
       "    </tr>\n",
       "    <tr>\n",
       "      <th>1</th>\n",
       "      <td>Ridge</td>\n",
       "      <td>1.27</td>\n",
       "      <td>2.11</td>\n",
       "      <td>5.53</td>\n",
       "    </tr>\n",
       "    <tr>\n",
       "      <th>2</th>\n",
       "      <td>ElasticNet</td>\n",
       "      <td>2.32</td>\n",
       "      <td>1.26</td>\n",
       "      <td>32.77</td>\n",
       "    </tr>\n",
       "    <tr>\n",
       "      <th>3</th>\n",
       "      <td>RFR</td>\n",
       "      <td>0.60</td>\n",
       "      <td>0.60</td>\n",
       "      <td>87.88</td>\n",
       "    </tr>\n",
       "  </tbody>\n",
       "</table>\n",
       "</div>"
      ],
      "text/plain": [
       "       Modèle  Params par Défaut: erreur  Hyperparamètre: erreur  Temps(sec)\n",
       "0       Lasso                       1.19                    1.17       41.33\n",
       "1       Ridge                       1.27                    2.11        5.53\n",
       "2  ElasticNet                       2.32                    1.26       32.77\n",
       "3         RFR                       0.60                    0.60       87.88"
      ]
     },
     "execution_count": 47,
     "metadata": {},
     "output_type": "execute_result"
    }
   ],
   "source": [
    "\n",
    "modele=RandomForestRegressor(random_state=42)\n",
    "modele.fit(X_train,y_train)\n",
    "y_pred=modele.predict(X_test)\n",
    "results = results.append(pd.DataFrame({\n",
    "    'Modèle' : ['RFR'],\n",
    "    'Params par Défaut: erreur' :[np.round(mean_squared_log_error(y_test,np.abs(y_pred)),2)],\n",
    "    'Hyperparamètre: erreur' : [np.round(mean_squared_log_error(y_test,np.abs(rfr_search.predict(X_test))),2)],\n",
    "    'Temps(sec)' :[np.round(Diff_time.total_seconds(),2)]}),ignore_index=True)\n",
    "                         \n",
    "results"
   ]
  },
  {
   "cell_type": "markdown",
   "metadata": {},
   "source": [
    "### Support Vector Regression"
   ]
  },
  {
   "cell_type": "markdown",
   "metadata": {},
   "source": [
    "#### SVR_rbf"
   ]
  },
  {
   "cell_type": "code",
   "execution_count": 48,
   "metadata": {},
   "outputs": [],
   "source": [
    "parameters = {'gamma' : [1e-8, 1e-7, 1e-6, 1e-5, 1e-4, 1e-3, 1e-2, 1e-1],\n",
    "              'epsilon' : [0.001, 0.01, 0.1, 1], \n",
    "              'C' : [0.001, 0.01, 0.1, 1, 10]} "
   ]
  },
  {
   "cell_type": "code",
   "execution_count": 49,
   "metadata": {},
   "outputs": [
    {
     "name": "stdout",
     "output_type": "stream",
     "text": [
      "0:01:39.791054\n"
     ]
    }
   ],
   "source": [
    "start_time = datetime.now()\n",
    "\n",
    "svr_rbf = GridSearchCV(estimator = SVR(), \n",
    "                      param_grid = parameters,\n",
    "                      scoring = 'neg_median_absolute_error',\n",
    "                      cv=5)\n",
    "                   \n",
    "svr_rbf.fit(X_train, y_train)\n",
    "end_time = datetime.now()\n",
    "Diff_time=end_time - start_time\n",
    "print(Diff_time)\n"
   ]
  },
  {
   "cell_type": "code",
   "execution_count": 50,
   "metadata": {},
   "outputs": [
    {
     "data": {
      "text/plain": [
       "{'C': 10, 'epsilon': 0.001, 'gamma': 0.1}"
      ]
     },
     "execution_count": 50,
     "metadata": {},
     "output_type": "execute_result"
    }
   ],
   "source": [
    "svr_rbf.best_params_"
   ]
  },
  {
   "cell_type": "code",
   "execution_count": 51,
   "metadata": {
    "scrolled": true
   },
   "outputs": [
    {
     "data": {
      "text/html": [
       "<div>\n",
       "<style scoped>\n",
       "    .dataframe tbody tr th:only-of-type {\n",
       "        vertical-align: middle;\n",
       "    }\n",
       "\n",
       "    .dataframe tbody tr th {\n",
       "        vertical-align: top;\n",
       "    }\n",
       "\n",
       "    .dataframe thead th {\n",
       "        text-align: right;\n",
       "    }\n",
       "</style>\n",
       "<table border=\"1\" class=\"dataframe\">\n",
       "  <thead>\n",
       "    <tr style=\"text-align: right;\">\n",
       "      <th></th>\n",
       "      <th>Modèle</th>\n",
       "      <th>Params par Défaut: erreur</th>\n",
       "      <th>Hyperparamètre: erreur</th>\n",
       "      <th>Temps(sec)</th>\n",
       "    </tr>\n",
       "  </thead>\n",
       "  <tbody>\n",
       "    <tr>\n",
       "      <th>0</th>\n",
       "      <td>Lasso</td>\n",
       "      <td>1.19</td>\n",
       "      <td>1.17</td>\n",
       "      <td>41.33</td>\n",
       "    </tr>\n",
       "    <tr>\n",
       "      <th>1</th>\n",
       "      <td>Ridge</td>\n",
       "      <td>1.27</td>\n",
       "      <td>2.11</td>\n",
       "      <td>5.53</td>\n",
       "    </tr>\n",
       "    <tr>\n",
       "      <th>2</th>\n",
       "      <td>ElasticNet</td>\n",
       "      <td>2.32</td>\n",
       "      <td>1.26</td>\n",
       "      <td>32.77</td>\n",
       "    </tr>\n",
       "    <tr>\n",
       "      <th>3</th>\n",
       "      <td>RFR</td>\n",
       "      <td>0.60</td>\n",
       "      <td>0.60</td>\n",
       "      <td>87.88</td>\n",
       "    </tr>\n",
       "    <tr>\n",
       "      <th>4</th>\n",
       "      <td>SVR</td>\n",
       "      <td>1.90</td>\n",
       "      <td>1.90</td>\n",
       "      <td>99.79</td>\n",
       "    </tr>\n",
       "  </tbody>\n",
       "</table>\n",
       "</div>"
      ],
      "text/plain": [
       "       Modèle  Params par Défaut: erreur  Hyperparamètre: erreur  Temps(sec)\n",
       "0       Lasso                       1.19                    1.17       41.33\n",
       "1       Ridge                       1.27                    2.11        5.53\n",
       "2  ElasticNet                       2.32                    1.26       32.77\n",
       "3         RFR                       0.60                    0.60       87.88\n",
       "4         SVR                       1.90                    1.90       99.79"
      ]
     },
     "execution_count": 51,
     "metadata": {},
     "output_type": "execute_result"
    }
   ],
   "source": [
    "\n",
    "modele=SVR()\n",
    "modele.fit(X_train,y_train)\n",
    "y_pred=modele.predict(X_test)\n",
    "results = results.append(pd.DataFrame({\n",
    "    'Modèle' : ['SVR'],\n",
    "    'Params par Défaut: erreur' :[np.round(mean_squared_log_error(y_test,np.abs(y_pred)),2)],\n",
    "    'Hyperparamètre: erreur' : [np.round(mean_squared_log_error(y_test,np.abs(svr_rbf.predict(X_test))),2)],\n",
    "    'Temps(sec)' :[np.round(Diff_time.total_seconds(),2)]}),ignore_index=True)\n",
    "                         \n",
    "results\n"
   ]
  },
  {
   "cell_type": "markdown",
   "metadata": {},
   "source": [
    "### GradientBoostingRegressor"
   ]
  },
  {
   "cell_type": "code",
   "execution_count": 52,
   "metadata": {},
   "outputs": [],
   "source": [
    "\n",
    "parameters = {'n_estimators' : [100,500,1000,2000]}"
   ]
  },
  {
   "cell_type": "code",
   "execution_count": 53,
   "metadata": {},
   "outputs": [
    {
     "name": "stdout",
     "output_type": "stream",
     "text": [
      "0:00:54.949401\n"
     ]
    }
   ],
   "source": [
    "start_time = datetime.now()\n",
    "\n",
    "gbr_grid = GridSearchCV(GradientBoostingRegressor(random_state=42),\n",
    "                        param_grid = parameters,\n",
    "                       scoring = 'neg_median_absolute_error',\n",
    "                        cv = 5,)\n",
    "                        \n",
    "gbr_grid.fit(X_train, y_train)\n",
    "end_time = datetime.now()\n",
    "Diff_time=end_time - start_time\n",
    "print(Diff_time)"
   ]
  },
  {
   "cell_type": "code",
   "execution_count": 54,
   "metadata": {},
   "outputs": [
    {
     "data": {
      "text/plain": [
       "{'n_estimators': 500}"
      ]
     },
     "execution_count": 54,
     "metadata": {},
     "output_type": "execute_result"
    }
   ],
   "source": [
    "gbr_grid.best_params_"
   ]
  },
  {
   "cell_type": "code",
   "execution_count": 55,
   "metadata": {},
   "outputs": [
    {
     "data": {
      "text/html": [
       "<div>\n",
       "<style scoped>\n",
       "    .dataframe tbody tr th:only-of-type {\n",
       "        vertical-align: middle;\n",
       "    }\n",
       "\n",
       "    .dataframe tbody tr th {\n",
       "        vertical-align: top;\n",
       "    }\n",
       "\n",
       "    .dataframe thead th {\n",
       "        text-align: right;\n",
       "    }\n",
       "</style>\n",
       "<table border=\"1\" class=\"dataframe\">\n",
       "  <thead>\n",
       "    <tr style=\"text-align: right;\">\n",
       "      <th></th>\n",
       "      <th>Modèle</th>\n",
       "      <th>Params par Défaut: erreur</th>\n",
       "      <th>Hyperparamètre: erreur</th>\n",
       "      <th>Temps(sec)</th>\n",
       "    </tr>\n",
       "  </thead>\n",
       "  <tbody>\n",
       "    <tr>\n",
       "      <th>0</th>\n",
       "      <td>Lasso</td>\n",
       "      <td>1.19</td>\n",
       "      <td>1.17</td>\n",
       "      <td>41.33</td>\n",
       "    </tr>\n",
       "    <tr>\n",
       "      <th>1</th>\n",
       "      <td>Ridge</td>\n",
       "      <td>1.27</td>\n",
       "      <td>2.11</td>\n",
       "      <td>5.53</td>\n",
       "    </tr>\n",
       "    <tr>\n",
       "      <th>2</th>\n",
       "      <td>ElasticNet</td>\n",
       "      <td>2.32</td>\n",
       "      <td>1.26</td>\n",
       "      <td>32.77</td>\n",
       "    </tr>\n",
       "    <tr>\n",
       "      <th>3</th>\n",
       "      <td>RFR</td>\n",
       "      <td>0.60</td>\n",
       "      <td>0.60</td>\n",
       "      <td>87.88</td>\n",
       "    </tr>\n",
       "    <tr>\n",
       "      <th>4</th>\n",
       "      <td>SVR</td>\n",
       "      <td>1.90</td>\n",
       "      <td>1.90</td>\n",
       "      <td>99.79</td>\n",
       "    </tr>\n",
       "    <tr>\n",
       "      <th>5</th>\n",
       "      <td>GBR</td>\n",
       "      <td>0.70</td>\n",
       "      <td>0.63</td>\n",
       "      <td>54.95</td>\n",
       "    </tr>\n",
       "  </tbody>\n",
       "</table>\n",
       "</div>"
      ],
      "text/plain": [
       "       Modèle  Params par Défaut: erreur  Hyperparamètre: erreur  Temps(sec)\n",
       "0       Lasso                       1.19                    1.17       41.33\n",
       "1       Ridge                       1.27                    2.11        5.53\n",
       "2  ElasticNet                       2.32                    1.26       32.77\n",
       "3         RFR                       0.60                    0.60       87.88\n",
       "4         SVR                       1.90                    1.90       99.79\n",
       "5         GBR                       0.70                    0.63       54.95"
      ]
     },
     "execution_count": 55,
     "metadata": {},
     "output_type": "execute_result"
    }
   ],
   "source": [
    "\n",
    "modele=GradientBoostingRegressor(random_state=42)\n",
    "modele.fit(X_train,y_train)\n",
    "y_pred=modele.predict(X_test)\n",
    "results = results.append(pd.DataFrame({\n",
    "    'Modèle' : ['GBR'],\n",
    "    'Params par Défaut: erreur' :[np.round(mean_squared_log_error(y_test,np.abs(y_pred)),2)],\n",
    "    'Hyperparamètre: erreur' : [np.round(mean_squared_log_error(y_test,np.abs(gbr_grid.predict(X_test))),2)],\n",
    "    'Temps(sec)' :[np.round(Diff_time.total_seconds(),2)]}),ignore_index=True)\n",
    "                         \n",
    "results"
   ]
  },
  {
   "cell_type": "code",
   "execution_count": 56,
   "metadata": {},
   "outputs": [
    {
     "data": {
      "image/png": "[encoded data removed]",
      "text/plain": [
       "<Figure size 576x432 with 1 Axes>"
      ]
     },
     "metadata": {
      "needs_background": "light"
     },
     "output_type": "display_data"
    }
   ],
   "source": [
    "plt.figure(figsize=(8,6))\n",
    "sns.barplot(x=results.iloc[:,0],y=results.iloc[:,2] , hue=results.iloc[:,3])\n",
    "\n",
    "plt.savefig('image/model_energie.png')"
   ]
  },
  {
   "cell_type": "markdown",
   "metadata": {},
   "source": [
    "## Modèle de Erreur du modèle  des émissions de CO2 ('TotalGHGEmissions')\n"
   ]
  },
  {
   "cell_type": "code",
   "execution_count": 57,
   "metadata": {},
   "outputs": [],
   "source": [
    "\n",
    "y_CO2 = colonne_targets['TotalGHGEmissions']"
   ]
  },
  {
   "cell_type": "code",
   "execution_count": 58,
   "metadata": {},
   "outputs": [
    {
     "data": {
      "text/plain": [
       "((1691, 181), (1691,))"
      ]
     },
     "execution_count": 58,
     "metadata": {},
     "output_type": "execute_result"
    }
   ],
   "source": [
    "X.shape, y_CO2.shape"
   ]
  },
  {
   "cell_type": "markdown",
   "metadata": {},
   "source": [
    "### FEATURE SELECTION"
   ]
  },
  {
   "cell_type": "code",
   "execution_count": 59,
   "metadata": {},
   "outputs": [],
   "source": [
    "feature_selection_CO2 = RFECV(DecisionTreeRegressor(random_state=42),step=4,cv=5,min_features_to_select=7 )"
   ]
  },
  {
   "cell_type": "code",
   "execution_count": 60,
   "metadata": {},
   "outputs": [
    {
     "data": {
      "text/plain": [
       "RFECV(cv=5, estimator=DecisionTreeRegressor(random_state=42),\n",
       "      min_features_to_select=7, step=4)"
      ]
     },
     "execution_count": 60,
     "metadata": {},
     "output_type": "execute_result"
    }
   ],
   "source": [
    "feature_selection_CO2.fit(X,y_CO2)"
   ]
  },
  {
   "cell_type": "code",
   "execution_count": 61,
   "metadata": {},
   "outputs": [
    {
     "data": {
      "text/plain": [
       "Index(['Surface_total_GFA', 'Neighborhood', 'YearsENERGYSTARCertified',\n",
       "       'NumberofBuildings', 'NumberofFloors', 'Data_construction_1',\n",
       "       'BuildingType_nonresidential', 'BuildingType_nonresidential cos',\n",
       "       'PrimaryPropertyType_hospital', 'PrimaryPropertyType_hotel',\n",
       "       'PrimaryPropertyType_k-12 school', 'PrimaryPropertyType_large office',\n",
       "       'PrimaryPropertyType_medical office',\n",
       "       'PrimaryPropertyType_mixed use property',\n",
       "       'PrimaryPropertyType_non-refrigerated warehouse',\n",
       "       'PrimaryPropertyType_other', 'PrimaryPropertyType_retail store',\n",
       "       'PrimaryPropertyType_senior care community',\n",
       "       'PrimaryPropertyType_supermarket/grocery store',\n",
       "       'PrimaryPropertyType_worship facility',\n",
       "       'LargestPropertyUseType_college/university',\n",
       "       'LargestPropertyUseType_convention center',\n",
       "       'LargestPropertyUseType_data center',\n",
       "       'LargestPropertyUseType_distribution center',\n",
       "       'LargestPropertyUseType_laboratory',\n",
       "       'LargestPropertyUseType_manufacturing/industrial plant',\n",
       "       'LargestPropertyUseType_museum',\n",
       "       'LargestPropertyUseType_non-refrigerated warehouse',\n",
       "       'LargestPropertyUseType_office', 'LargestPropertyUseType_other',\n",
       "       'LargestPropertyUseType_other - education',\n",
       "       'LargestPropertyUseType_other - entertainment/public assembly',\n",
       "       'LargestPropertyUseType_other - mall',\n",
       "       'LargestPropertyUseType_other - recreation',\n",
       "       'LargestPropertyUseType_other/specialty hospital',\n",
       "       'LargestPropertyUseType_parking', 'LargestPropertyUseType_restaurant',\n",
       "       'LargestPropertyUseType_retail store',\n",
       "       'LargestPropertyUseType_social/meeting hall',\n",
       "       'LargestPropertyUseType_urgent care/clinic/other outpatient',\n",
       "       'SecondLargestPropertyUseType_data center',\n",
       "       'SecondLargestPropertyUseType_laboratory',\n",
       "       'SecondLargestPropertyUseType_office',\n",
       "       'SecondLargestPropertyUseType_other - services',\n",
       "       'SecondLargestPropertyUseType_parking',\n",
       "       'SecondLargestPropertyUseType_pas de piece',\n",
       "       'SecondLargestPropertyUseType_restaurant',\n",
       "       'SecondLargestPropertyUseType_retail store',\n",
       "       'SecondLargestPropertyUseType_supermarket/grocery store',\n",
       "       'ThirdLargestPropertyUseType_office',\n",
       "       'ThirdLargestPropertyUseType_other',\n",
       "       'ThirdLargestPropertyUseType_other - restaurant/bar',\n",
       "       'ThirdLargestPropertyUseType_other/specialty hospital',\n",
       "       'ThirdLargestPropertyUseType_pas de piece',\n",
       "       'ThirdLargestPropertyUseType_restaurant',\n",
       "       'ThirdLargestPropertyUseType_swimming pool',\n",
       "       'ThirdLargestPropertyUseType_worship facility'],\n",
       "      dtype='object')"
      ]
     },
     "execution_count": 61,
     "metadata": {},
     "output_type": "execute_result"
    }
   ],
   "source": [
    "feature_selection_energie.get_support()\n",
    "\n",
    "features_CO2 = X.columns[feature_selection_CO2.get_support()]\n",
    "features_CO2"
   ]
  },
  {
   "cell_type": "code",
   "execution_count": 62,
   "metadata": {},
   "outputs": [
    {
     "data": {
      "text/plain": [
       "(1691, 57)"
      ]
     },
     "execution_count": 62,
     "metadata": {},
     "output_type": "execute_result"
    }
   ],
   "source": [
    "X_CO2 = X[features_CO2]\n",
    "X_CO2.shape"
   ]
  },
  {
   "cell_type": "code",
   "execution_count": 63,
   "metadata": {},
   "outputs": [],
   "source": [
    "# Idem pour CO2\n",
    "min_max = MinMaxScaler()\n",
    "min_max_CO2 = min_max.fit_transform(X_CO2)\n",
    "\n"
   ]
  },
  {
   "cell_type": "code",
   "execution_count": 64,
   "metadata": {},
   "outputs": [],
   "source": [
    "X_train,X_test,y_train,y_test = train_test_split(min_max_CO2,y_CO2.values,test_size = 0.31)"
   ]
  },
  {
   "cell_type": "markdown",
   "metadata": {},
   "source": [
    "### Rajoutons les hyperparamètres pour améliorer les models à l'aide de GridSerchCV"
   ]
  },
  {
   "cell_type": "markdown",
   "metadata": {},
   "source": [
    "### Lasso"
   ]
  },
  {
   "cell_type": "code",
   "execution_count": 65,
   "metadata": {},
   "outputs": [],
   "source": [
    "parameters = {'alpha' : np.logspace(-5,5,35),\n",
    "              'fit_intercept':[True,False],\n",
    "              'precompute':[True,False],\n",
    "              'tol':[0.1,0.01,0.001,0.0001,0.00001],}"
   ]
  },
  {
   "cell_type": "code",
   "execution_count": 66,
   "metadata": {},
   "outputs": [],
   "source": [
    "start_time = datetime.now()\n"
   ]
  },
  {
   "cell_type": "code",
   "execution_count": 67,
   "metadata": {},
   "outputs": [
    {
     "name": "stdout",
     "output_type": "stream",
     "text": [
      "0:00:28.743247\n"
     ]
    }
   ],
   "source": [
    "lasso_grid = GridSearchCV(estimator = Lasso(random_state=42), \n",
    "                      param_grid = parameters,\n",
    "                      scoring = 'neg_median_absolute_error',\n",
    "                      cv=5\n",
    "                     )\n",
    "\n",
    "lasso_grid.fit(X_train, y_train)\n",
    "\n",
    "end_time = datetime.now()\n",
    "Diff_time=end_time - start_time\n",
    "print(Diff_time)"
   ]
  },
  {
   "cell_type": "code",
   "execution_count": 68,
   "metadata": {},
   "outputs": [
    {
     "data": {
      "text/plain": [
       "{'alpha': 114.50475699382812,\n",
       " 'fit_intercept': False,\n",
       " 'precompute': False,\n",
       " 'tol': 0.1}"
      ]
     },
     "execution_count": 68,
     "metadata": {},
     "output_type": "execute_result"
    }
   ],
   "source": [
    "lasso_grid.best_params_"
   ]
  },
  {
   "cell_type": "code",
   "execution_count": 69,
   "metadata": {},
   "outputs": [
    {
     "data": {
      "text/html": [
       "<div>\n",
       "<style scoped>\n",
       "    .dataframe tbody tr th:only-of-type {\n",
       "        vertical-align: middle;\n",
       "    }\n",
       "\n",
       "    .dataframe tbody tr th {\n",
       "        vertical-align: top;\n",
       "    }\n",
       "\n",
       "    .dataframe thead th {\n",
       "        text-align: right;\n",
       "    }\n",
       "</style>\n",
       "<table border=\"1\" class=\"dataframe\">\n",
       "  <thead>\n",
       "    <tr style=\"text-align: right;\">\n",
       "      <th></th>\n",
       "      <th>Modèle</th>\n",
       "      <th>Params par Défaut: erreur</th>\n",
       "      <th>Hyperparamètre: erreur</th>\n",
       "      <th>Temps(sec)</th>\n",
       "    </tr>\n",
       "  </thead>\n",
       "  <tbody>\n",
       "    <tr>\n",
       "      <th>0</th>\n",
       "      <td>Lasso</td>\n",
       "      <td>1.76</td>\n",
       "      <td>4.56</td>\n",
       "      <td>28.74</td>\n",
       "    </tr>\n",
       "  </tbody>\n",
       "</table>\n",
       "</div>"
      ],
      "text/plain": [
       "  Modèle  Params par Défaut: erreur  Hyperparamètre: erreur  Temps(sec)\n",
       "0  Lasso                       1.76                    4.56       28.74"
      ]
     },
     "execution_count": 69,
     "metadata": {},
     "output_type": "execute_result"
    }
   ],
   "source": [
    "results = pd.DataFrame({})\n",
    "modele=Lasso(random_state=42)\n",
    "modele.fit(X_train,y_train)\n",
    "y_pred=modele.predict(X_test)\n",
    "results = results.append(pd.DataFrame({\n",
    "    'Modèle' : ['Lasso'],\n",
    "    'Params par Défaut: erreur' :[np.round(mean_squared_log_error(y_test,np.abs(y_pred)),2)],\n",
    "    'Hyperparamètre: erreur' : [np.round(mean_squared_log_error(y_test,np.abs(lasso_grid.predict(X_test))),2)],\n",
    "    'Temps(sec)' :[np.round(Diff_time.total_seconds(),2)]}),ignore_index=True)\n",
    "                         \n",
    "results"
   ]
  },
  {
   "cell_type": "markdown",
   "metadata": {},
   "source": [
    "### Ridge"
   ]
  },
  {
   "cell_type": "code",
   "execution_count": 70,
   "metadata": {},
   "outputs": [],
   "source": [
    "start_time = datetime.now()\n",
    "parameters = {'alpha' : np.logspace(-5,5,35),\n",
    "              'fit_intercept':[True,False],\n",
    "              'tol':[0.1,0.01,0.001,0.0001,0.00001],\n",
    "              'solver':['auto']}\n"
   ]
  },
  {
   "cell_type": "code",
   "execution_count": 71,
   "metadata": {},
   "outputs": [
    {
     "name": "stdout",
     "output_type": "stream",
     "text": [
      "0:00:07.276851\n"
     ]
    }
   ],
   "source": [
    "ridge_grid = GridSearchCV(estimator = Ridge(random_state=42), \n",
    "                      param_grid = parameters,\n",
    "                      scoring = 'neg_median_absolute_error',\n",
    "                      cv=5, \n",
    "                     )\n",
    "\n",
    "ridge_grid.fit(X_train, y_train)\n",
    "end_time = datetime.now()\n",
    "Diff_time=end_time - start_time\n",
    "print(Diff_time)"
   ]
  },
  {
   "cell_type": "code",
   "execution_count": 72,
   "metadata": {},
   "outputs": [
    {
     "data": {
      "text/plain": [
       "{'alpha': 13111.33937421563,\n",
       " 'fit_intercept': False,\n",
       " 'solver': 'auto',\n",
       " 'tol': 0.1}"
      ]
     },
     "execution_count": 72,
     "metadata": {},
     "output_type": "execute_result"
    }
   ],
   "source": [
    "ridge_grid.best_params_"
   ]
  },
  {
   "cell_type": "code",
   "execution_count": 73,
   "metadata": {},
   "outputs": [
    {
     "data": {
      "text/html": [
       "<div>\n",
       "<style scoped>\n",
       "    .dataframe tbody tr th:only-of-type {\n",
       "        vertical-align: middle;\n",
       "    }\n",
       "\n",
       "    .dataframe tbody tr th {\n",
       "        vertical-align: top;\n",
       "    }\n",
       "\n",
       "    .dataframe thead th {\n",
       "        text-align: right;\n",
       "    }\n",
       "</style>\n",
       "<table border=\"1\" class=\"dataframe\">\n",
       "  <thead>\n",
       "    <tr style=\"text-align: right;\">\n",
       "      <th></th>\n",
       "      <th>Modèle</th>\n",
       "      <th>Params par Défaut: erreur</th>\n",
       "      <th>Hyperparamètre: erreur</th>\n",
       "      <th>Temps(sec)</th>\n",
       "    </tr>\n",
       "  </thead>\n",
       "  <tbody>\n",
       "    <tr>\n",
       "      <th>0</th>\n",
       "      <td>Lasso</td>\n",
       "      <td>1.76</td>\n",
       "      <td>4.56</td>\n",
       "      <td>28.74</td>\n",
       "    </tr>\n",
       "    <tr>\n",
       "      <th>1</th>\n",
       "      <td>Ridge</td>\n",
       "      <td>2.05</td>\n",
       "      <td>2.31</td>\n",
       "      <td>7.28</td>\n",
       "    </tr>\n",
       "  </tbody>\n",
       "</table>\n",
       "</div>"
      ],
      "text/plain": [
       "  Modèle  Params par Défaut: erreur  Hyperparamètre: erreur  Temps(sec)\n",
       "0  Lasso                       1.76                    4.56       28.74\n",
       "1  Ridge                       2.05                    2.31        7.28"
      ]
     },
     "execution_count": 73,
     "metadata": {},
     "output_type": "execute_result"
    }
   ],
   "source": [
    "\n",
    "modele=Ridge(random_state=42)\n",
    "modele.fit(X_train,y_train)\n",
    "y_pred=modele.predict(X_test)\n",
    "results = results.append(pd.DataFrame({\n",
    "    'Modèle' : ['Ridge'],\n",
    "    'Params par Défaut: erreur' :[np.round(mean_squared_log_error(y_test,np.abs(y_pred)),2)],\n",
    "    'Hyperparamètre: erreur' : [np.round(mean_squared_log_error(y_test,np.abs(ridge_grid.predict(X_test))),2)],\n",
    "    'Temps(sec)' :[np.round(Diff_time.total_seconds(),2)]}),ignore_index=True)\n",
    "                         \n",
    "results"
   ]
  },
  {
   "cell_type": "markdown",
   "metadata": {},
   "source": [
    "### Elastic Net"
   ]
  },
  {
   "cell_type": "code",
   "execution_count": 74,
   "metadata": {},
   "outputs": [],
   "source": [
    "\n",
    "parameters = {'tol' : [0.1,0.01,0.001,0.0001],\n",
    "              \"alpha\": [0.0001, 0.001, 0.01, 0.1, 1, 10, 100],\n",
    "              \"l1_ratio\": np.arange(0.0, 1.1, 0.1)}"
   ]
  },
  {
   "cell_type": "code",
   "execution_count": 75,
   "metadata": {},
   "outputs": [
    {
     "name": "stdout",
     "output_type": "stream",
     "text": [
      "0:00:28.995649\n"
     ]
    }
   ],
   "source": [
    "start_time = datetime.now()\n",
    "\n",
    "\n",
    "elastic_grid = GridSearchCV(estimator = ElasticNet(), \n",
    "                      param_grid = parameters,\n",
    "                      scoring = 'neg_median_absolute_error',\n",
    "                      cv=5, \n",
    "                      \n",
    "                     )\n",
    "\n",
    "elastic_grid.fit(X_train, y_train)\n",
    "end_time = datetime.now()\n",
    "Diff_time=end_time - start_time\n",
    "print(Diff_time)"
   ]
  },
  {
   "cell_type": "code",
   "execution_count": 76,
   "metadata": {},
   "outputs": [
    {
     "data": {
      "text/plain": [
       "{'alpha': 1, 'l1_ratio': 1.0, 'tol': 0.0001}"
      ]
     },
     "execution_count": 76,
     "metadata": {},
     "output_type": "execute_result"
    }
   ],
   "source": [
    "\n",
    "elastic_grid.best_params_"
   ]
  },
  {
   "cell_type": "code",
   "execution_count": 77,
   "metadata": {},
   "outputs": [
    {
     "data": {
      "text/html": [
       "<div>\n",
       "<style scoped>\n",
       "    .dataframe tbody tr th:only-of-type {\n",
       "        vertical-align: middle;\n",
       "    }\n",
       "\n",
       "    .dataframe tbody tr th {\n",
       "        vertical-align: top;\n",
       "    }\n",
       "\n",
       "    .dataframe thead th {\n",
       "        text-align: right;\n",
       "    }\n",
       "</style>\n",
       "<table border=\"1\" class=\"dataframe\">\n",
       "  <thead>\n",
       "    <tr style=\"text-align: right;\">\n",
       "      <th></th>\n",
       "      <th>Modèle</th>\n",
       "      <th>Params par Défaut: erreur</th>\n",
       "      <th>Hyperparamètre: erreur</th>\n",
       "      <th>Temps(sec)</th>\n",
       "    </tr>\n",
       "  </thead>\n",
       "  <tbody>\n",
       "    <tr>\n",
       "      <th>0</th>\n",
       "      <td>Lasso</td>\n",
       "      <td>1.76</td>\n",
       "      <td>4.56</td>\n",
       "      <td>28.74</td>\n",
       "    </tr>\n",
       "    <tr>\n",
       "      <th>1</th>\n",
       "      <td>Ridge</td>\n",
       "      <td>2.05</td>\n",
       "      <td>2.31</td>\n",
       "      <td>7.28</td>\n",
       "    </tr>\n",
       "    <tr>\n",
       "      <th>2</th>\n",
       "      <td>ElasticNet</td>\n",
       "      <td>3.37</td>\n",
       "      <td>1.76</td>\n",
       "      <td>29.00</td>\n",
       "    </tr>\n",
       "  </tbody>\n",
       "</table>\n",
       "</div>"
      ],
      "text/plain": [
       "       Modèle  Params par Défaut: erreur  Hyperparamètre: erreur  Temps(sec)\n",
       "0       Lasso                       1.76                    4.56       28.74\n",
       "1       Ridge                       2.05                    2.31        7.28\n",
       "2  ElasticNet                       3.37                    1.76       29.00"
      ]
     },
     "execution_count": 77,
     "metadata": {},
     "output_type": "execute_result"
    }
   ],
   "source": [
    "\n",
    "modele=ElasticNet(random_state=42)\n",
    "modele.fit(X_train,y_train)\n",
    "y_pred=modele.predict(X_test)\n",
    "results = results.append(pd.DataFrame({\n",
    "    'Modèle' : ['ElasticNet'],\n",
    "    'Params par Défaut: erreur' :[np.round(mean_squared_log_error(y_test,np.abs(y_pred)),2)],\n",
    "    'Hyperparamètre: erreur' : [np.round(mean_squared_log_error(y_test,np.abs(elastic_grid.predict(X_test))),2)],\n",
    "    'Temps(sec)' :[np.round(Diff_time.total_seconds(),2)]}),ignore_index=True)\n",
    "                         \n",
    "results"
   ]
  },
  {
   "cell_type": "markdown",
   "metadata": {},
   "source": [
    "### Random Forest Regressor"
   ]
  },
  {
   "cell_type": "code",
   "execution_count": 78,
   "metadata": {},
   "outputs": [],
   "source": [
    "\n",
    "parameters = {\n",
    "    'n_estimators' : [100,120,150], \n",
    "#     'oob_score':[True,False],\n",
    "    'min_samples_leaf' : np.arange(1, 4),\n",
    "    'min_samples_split':np.arange(2, 5),}"
   ]
  },
  {
   "cell_type": "code",
   "execution_count": 79,
   "metadata": {},
   "outputs": [],
   "source": [
    "\n",
    "start_time = datetime.now()\n"
   ]
  },
  {
   "cell_type": "code",
   "execution_count": 80,
   "metadata": {},
   "outputs": [
    {
     "name": "stdout",
     "output_type": "stream",
     "text": [
      "0:03:11.690919\n"
     ]
    }
   ],
   "source": [
    "start_time = datetime.now()\n",
    "rfr_search = GridSearchCV(estimator=RandomForestRegressor(random_state=42),\n",
    "                               param_grid = parameters,\n",
    "                               scoring = 'neg_median_absolute_error',\n",
    "                               cv=5)\n",
    "\n",
    "rfr_search.fit(X_train, y_train)\n",
    "end_time = datetime.now()\n",
    "Diff_time=end_time - start_time\n",
    "print(Diff_time)"
   ]
  },
  {
   "cell_type": "code",
   "execution_count": 81,
   "metadata": {},
   "outputs": [
    {
     "data": {
      "text/plain": [
       "{'min_samples_leaf': 1, 'min_samples_split': 2, 'n_estimators': 100}"
      ]
     },
     "execution_count": 81,
     "metadata": {},
     "output_type": "execute_result"
    }
   ],
   "source": [
    "rfr_search.best_params_"
   ]
  },
  {
   "cell_type": "code",
   "execution_count": 82,
   "metadata": {},
   "outputs": [
    {
     "data": {
      "text/html": [
       "<div>\n",
       "<style scoped>\n",
       "    .dataframe tbody tr th:only-of-type {\n",
       "        vertical-align: middle;\n",
       "    }\n",
       "\n",
       "    .dataframe tbody tr th {\n",
       "        vertical-align: top;\n",
       "    }\n",
       "\n",
       "    .dataframe thead th {\n",
       "        text-align: right;\n",
       "    }\n",
       "</style>\n",
       "<table border=\"1\" class=\"dataframe\">\n",
       "  <thead>\n",
       "    <tr style=\"text-align: right;\">\n",
       "      <th></th>\n",
       "      <th>Modèle</th>\n",
       "      <th>Params par Défaut: erreur</th>\n",
       "      <th>Hyperparamètre: erreur</th>\n",
       "      <th>Temps(sec)</th>\n",
       "    </tr>\n",
       "  </thead>\n",
       "  <tbody>\n",
       "    <tr>\n",
       "      <th>0</th>\n",
       "      <td>Lasso</td>\n",
       "      <td>1.76</td>\n",
       "      <td>4.56</td>\n",
       "      <td>28.74</td>\n",
       "    </tr>\n",
       "    <tr>\n",
       "      <th>1</th>\n",
       "      <td>Ridge</td>\n",
       "      <td>2.05</td>\n",
       "      <td>2.31</td>\n",
       "      <td>7.28</td>\n",
       "    </tr>\n",
       "    <tr>\n",
       "      <th>2</th>\n",
       "      <td>ElasticNet</td>\n",
       "      <td>3.37</td>\n",
       "      <td>1.76</td>\n",
       "      <td>29.00</td>\n",
       "    </tr>\n",
       "    <tr>\n",
       "      <th>3</th>\n",
       "      <td>RFR</td>\n",
       "      <td>1.21</td>\n",
       "      <td>1.21</td>\n",
       "      <td>191.69</td>\n",
       "    </tr>\n",
       "  </tbody>\n",
       "</table>\n",
       "</div>"
      ],
      "text/plain": [
       "       Modèle  Params par Défaut: erreur  Hyperparamètre: erreur  Temps(sec)\n",
       "0       Lasso                       1.76                    4.56       28.74\n",
       "1       Ridge                       2.05                    2.31        7.28\n",
       "2  ElasticNet                       3.37                    1.76       29.00\n",
       "3         RFR                       1.21                    1.21      191.69"
      ]
     },
     "execution_count": 82,
     "metadata": {},
     "output_type": "execute_result"
    }
   ],
   "source": [
    "\n",
    "modele=RandomForestRegressor(random_state=42)\n",
    "modele.fit(X_train,y_train)\n",
    "y_pred=modele.predict(X_test)\n",
    "results = results.append(pd.DataFrame({\n",
    "    'Modèle' : ['RFR'],\n",
    "    'Params par Défaut: erreur' :[np.round(mean_squared_log_error(y_test,np.abs(y_pred)),2)],\n",
    "    'Hyperparamètre: erreur' : [np.round(mean_squared_log_error(y_test,np.abs(rfr_search.predict(X_test))),2)],\n",
    "    'Temps(sec)' :[np.round(Diff_time.total_seconds(),2)]}),ignore_index=True)\n",
    "                         \n",
    "results"
   ]
  },
  {
   "cell_type": "markdown",
   "metadata": {},
   "source": [
    "### Support Vector Regression"
   ]
  },
  {
   "cell_type": "markdown",
   "metadata": {},
   "source": [
    "#### SVR_rbf"
   ]
  },
  {
   "cell_type": "code",
   "execution_count": 83,
   "metadata": {},
   "outputs": [],
   "source": [
    "parameters = {'gamma' : [1e-8, 1e-7, 1e-6, 1e-5, 1e-4, 1e-3, 1e-2, 1e-1],\n",
    "              'epsilon' : [0.001, 0.01, 0.1, 1], \n",
    "              'C' : [0.001, 0.01, 0.1, 1, 10]} "
   ]
  },
  {
   "cell_type": "code",
   "execution_count": 84,
   "metadata": {},
   "outputs": [
    {
     "name": "stdout",
     "output_type": "stream",
     "text": [
      "0:01:59.139054\n"
     ]
    }
   ],
   "source": [
    "start_time = datetime.now()\n",
    "\n",
    "\n",
    "svr_rbf = GridSearchCV(estimator = SVR(), \n",
    "                      param_grid = parameters,\n",
    "                      scoring = 'neg_median_absolute_error',\n",
    "                      cv=5)\n",
    "                   \n",
    "svr_rbf.fit(X_train, y_train)\n",
    "end_time = datetime.now()\n",
    "Diff_time=end_time - start_time\n",
    "print(Diff_time)"
   ]
  },
  {
   "cell_type": "code",
   "execution_count": 85,
   "metadata": {},
   "outputs": [
    {
     "data": {
      "text/plain": [
       "{'C': 10, 'epsilon': 1, 'gamma': 0.01}"
      ]
     },
     "execution_count": 85,
     "metadata": {},
     "output_type": "execute_result"
    }
   ],
   "source": [
    "svr_rbf.best_params_"
   ]
  },
  {
   "cell_type": "code",
   "execution_count": 86,
   "metadata": {
    "scrolled": true
   },
   "outputs": [
    {
     "data": {
      "text/html": [
       "<div>\n",
       "<style scoped>\n",
       "    .dataframe tbody tr th:only-of-type {\n",
       "        vertical-align: middle;\n",
       "    }\n",
       "\n",
       "    .dataframe tbody tr th {\n",
       "        vertical-align: top;\n",
       "    }\n",
       "\n",
       "    .dataframe thead th {\n",
       "        text-align: right;\n",
       "    }\n",
       "</style>\n",
       "<table border=\"1\" class=\"dataframe\">\n",
       "  <thead>\n",
       "    <tr style=\"text-align: right;\">\n",
       "      <th></th>\n",
       "      <th>Modèle</th>\n",
       "      <th>Params par Défaut: erreur</th>\n",
       "      <th>Hyperparamètre: erreur</th>\n",
       "      <th>Temps(sec)</th>\n",
       "    </tr>\n",
       "  </thead>\n",
       "  <tbody>\n",
       "    <tr>\n",
       "      <th>0</th>\n",
       "      <td>Lasso</td>\n",
       "      <td>1.76</td>\n",
       "      <td>4.56</td>\n",
       "      <td>28.74</td>\n",
       "    </tr>\n",
       "    <tr>\n",
       "      <th>1</th>\n",
       "      <td>Ridge</td>\n",
       "      <td>2.05</td>\n",
       "      <td>2.31</td>\n",
       "      <td>7.28</td>\n",
       "    </tr>\n",
       "    <tr>\n",
       "      <th>2</th>\n",
       "      <td>ElasticNet</td>\n",
       "      <td>3.37</td>\n",
       "      <td>1.76</td>\n",
       "      <td>29.00</td>\n",
       "    </tr>\n",
       "    <tr>\n",
       "      <th>3</th>\n",
       "      <td>RFR</td>\n",
       "      <td>1.21</td>\n",
       "      <td>1.21</td>\n",
       "      <td>191.69</td>\n",
       "    </tr>\n",
       "    <tr>\n",
       "      <th>4</th>\n",
       "      <td>SVR</td>\n",
       "      <td>1.64</td>\n",
       "      <td>1.67</td>\n",
       "      <td>119.14</td>\n",
       "    </tr>\n",
       "  </tbody>\n",
       "</table>\n",
       "</div>"
      ],
      "text/plain": [
       "       Modèle  Params par Défaut: erreur  Hyperparamètre: erreur  Temps(sec)\n",
       "0       Lasso                       1.76                    4.56       28.74\n",
       "1       Ridge                       2.05                    2.31        7.28\n",
       "2  ElasticNet                       3.37                    1.76       29.00\n",
       "3         RFR                       1.21                    1.21      191.69\n",
       "4         SVR                       1.64                    1.67      119.14"
      ]
     },
     "execution_count": 86,
     "metadata": {},
     "output_type": "execute_result"
    }
   ],
   "source": [
    "\n",
    "modele=SVR()\n",
    "modele.fit(X_train,y_train)\n",
    "y_pred=modele.predict(X_test)\n",
    "results = results.append(pd.DataFrame({\n",
    "    'Modèle' : ['SVR'],\n",
    "    'Params par Défaut: erreur' :[np.round(mean_squared_log_error(y_test,np.abs(y_pred)),2)],\n",
    "    'Hyperparamètre: erreur' : [np.round(mean_squared_log_error(y_test,np.abs(svr_rbf.predict(X_test))),2)],\n",
    "    'Temps(sec)' :[np.round(Diff_time.total_seconds(),2)]}),ignore_index=True)\n",
    "                         \n",
    "results"
   ]
  },
  {
   "cell_type": "markdown",
   "metadata": {},
   "source": [
    "### GradientBoostingRegressor"
   ]
  },
  {
   "cell_type": "code",
   "execution_count": 87,
   "metadata": {},
   "outputs": [],
   "source": [
    "\n",
    "parameters = {'n_estimators' : [100,500,1000,2000]}             \n",
    "                                "
   ]
  },
  {
   "cell_type": "code",
   "execution_count": 88,
   "metadata": {},
   "outputs": [
    {
     "name": "stdout",
     "output_type": "stream",
     "text": [
      "0:00:53.941009\n"
     ]
    }
   ],
   "source": [
    "start_time = datetime.now()\n",
    "\n",
    "gbr_grid = GridSearchCV(GradientBoostingRegressor(random_state=42),\n",
    "                        param_grid = parameters,\n",
    "                        scoring = 'neg_median_absolute_error',\n",
    "                        cv = 5,)\n",
    "                        \n",
    "gbr_grid.fit(X_train, y_train)\n",
    "end_time = datetime.now()\n",
    "Diff_time=end_time - start_time\n",
    "print(Diff_time)"
   ]
  },
  {
   "cell_type": "code",
   "execution_count": 89,
   "metadata": {},
   "outputs": [
    {
     "data": {
      "text/plain": [
       "{'n_estimators': 500}"
      ]
     },
     "execution_count": 89,
     "metadata": {},
     "output_type": "execute_result"
    }
   ],
   "source": [
    "gbr_grid.best_params_"
   ]
  },
  {
   "cell_type": "code",
   "execution_count": 90,
   "metadata": {},
   "outputs": [
    {
     "data": {
      "text/html": [
       "<div>\n",
       "<style scoped>\n",
       "    .dataframe tbody tr th:only-of-type {\n",
       "        vertical-align: middle;\n",
       "    }\n",
       "\n",
       "    .dataframe tbody tr th {\n",
       "        vertical-align: top;\n",
       "    }\n",
       "\n",
       "    .dataframe thead th {\n",
       "        text-align: right;\n",
       "    }\n",
       "</style>\n",
       "<table border=\"1\" class=\"dataframe\">\n",
       "  <thead>\n",
       "    <tr style=\"text-align: right;\">\n",
       "      <th></th>\n",
       "      <th>Modèle</th>\n",
       "      <th>Params par Défaut: erreur</th>\n",
       "      <th>Hyperparamètre: erreur</th>\n",
       "      <th>Temps(sec)</th>\n",
       "    </tr>\n",
       "  </thead>\n",
       "  <tbody>\n",
       "    <tr>\n",
       "      <th>0</th>\n",
       "      <td>Lasso</td>\n",
       "      <td>1.76</td>\n",
       "      <td>4.56</td>\n",
       "      <td>28.74</td>\n",
       "    </tr>\n",
       "    <tr>\n",
       "      <th>1</th>\n",
       "      <td>Ridge</td>\n",
       "      <td>2.05</td>\n",
       "      <td>2.31</td>\n",
       "      <td>7.28</td>\n",
       "    </tr>\n",
       "    <tr>\n",
       "      <th>2</th>\n",
       "      <td>ElasticNet</td>\n",
       "      <td>3.37</td>\n",
       "      <td>1.76</td>\n",
       "      <td>29.00</td>\n",
       "    </tr>\n",
       "    <tr>\n",
       "      <th>3</th>\n",
       "      <td>RFR</td>\n",
       "      <td>1.21</td>\n",
       "      <td>1.21</td>\n",
       "      <td>191.69</td>\n",
       "    </tr>\n",
       "    <tr>\n",
       "      <th>4</th>\n",
       "      <td>SVR</td>\n",
       "      <td>1.64</td>\n",
       "      <td>1.67</td>\n",
       "      <td>119.14</td>\n",
       "    </tr>\n",
       "    <tr>\n",
       "      <th>5</th>\n",
       "      <td>GBR</td>\n",
       "      <td>1.30</td>\n",
       "      <td>1.20</td>\n",
       "      <td>53.94</td>\n",
       "    </tr>\n",
       "  </tbody>\n",
       "</table>\n",
       "</div>"
      ],
      "text/plain": [
       "       Modèle  Params par Défaut: erreur  Hyperparamètre: erreur  Temps(sec)\n",
       "0       Lasso                       1.76                    4.56       28.74\n",
       "1       Ridge                       2.05                    2.31        7.28\n",
       "2  ElasticNet                       3.37                    1.76       29.00\n",
       "3         RFR                       1.21                    1.21      191.69\n",
       "4         SVR                       1.64                    1.67      119.14\n",
       "5         GBR                       1.30                    1.20       53.94"
      ]
     },
     "execution_count": 90,
     "metadata": {},
     "output_type": "execute_result"
    }
   ],
   "source": [
    "\n",
    "modele=GradientBoostingRegressor(random_state=42)\n",
    "modele.fit(X_train,y_train)\n",
    "y_pred=modele.predict(X_test)\n",
    "results = results.append(pd.DataFrame({\n",
    "    'Modèle' : ['GBR'],\n",
    "    'Params par Défaut: erreur' :[np.round(mean_squared_log_error(y_test,np.abs(y_pred)),2)],\n",
    "    'Hyperparamètre: erreur' : [np.round(mean_squared_log_error(y_test,np.abs(gbr_grid.predict(X_test))),2)],\n",
    "    'Temps(sec)' :[np.round(Diff_time.total_seconds(),2)]}),ignore_index=True)\n",
    "                         \n",
    "results"
   ]
  },
  {
   "cell_type": "code",
   "execution_count": 91,
   "metadata": {},
   "outputs": [
    {
     "data": {
      "image/png": "[encoded data removed]",
      "text/plain": [
       "<Figure size 576x432 with 1 Axes>"
      ]
     },
     "metadata": {
      "needs_background": "light"
     },
     "output_type": "display_data"
    }
   ],
   "source": [
    "plt.figure(figsize=(8,6))\n",
    "sns.barplot(x=results.iloc[:,0],y=results.iloc[:,2],hue=results.iloc[:,3])\n",
    "plt.savefig('image/model_co2.png')"
   ]
  },
  {
   "cell_type": "markdown",
   "metadata": {},
   "source": [
    "## ENERGYSTARScore  vs TotalGHGEmissions"
   ]
  },
  {
   "cell_type": "code",
   "execution_count": 92,
   "metadata": {},
   "outputs": [
    {
     "data": {
      "image/png": "[encoded data removed]",
      "text/plain": [
       "<Figure size 720x432 with 3 Axes>"
      ]
     },
     "metadata": {
      "needs_background": "light"
     },
     "output_type": "display_data"
    }
   ],
   "source": [
    "# La distribution des données\n",
    "plt.figure(figsize=(10,6))\n",
    "plt.subplot(131)\n",
    "plt.title('SiteEnergyUse(kBtu)')\n",
    "plt.xscale(value='log')\n",
    "sns.histplot(colonne_targets['SiteEnergyUse(kBtu)'], bins=50, kde=True)\n",
    "plt.subplot(132)\n",
    "plt.xscale(value='log')\n",
    "plt.title('TotalGHGEmissions')\n",
    "sns.histplot(colonne_targets['TotalGHGEmissions'], bins=50, kde = True)\n",
    "plt.subplot(133)\n",
    "plt.xscale(value='log')\n",
    "plt.title('ENERGYSTARScore')\n",
    "sns.histplot(colonne_targets['ENERGYSTARScore'], bins=50, kde = True)\n",
    "plt.savefig('image/freres.png')"
   ]
  },
  {
   "cell_type": "code",
   "execution_count": 93,
   "metadata": {},
   "outputs": [
    {
     "data": {
      "image/png": "[encoded data removed]",
      "text/plain": [
       "<Figure size 432x288 with 1 Axes>"
      ]
     },
     "metadata": {
      "needs_background": "light"
     },
     "output_type": "display_data"
    }
   ],
   "source": [
    "\"\"\"\n",
    "Les deux extrémités ne se trouvent pas sur la ligne rouge, en particulier coté droite, qui monte brusquement\n",
    "Donc on est oblige d'utiliser la correlation de Spearman(pas de distribution normale)\n",
    "\"\"\" \n",
    "\n",
    "rez = st.probplot(colonne_targets['TotalGHGEmissions'], plot=plt);\n",
    "pg.normality(colonne_targets['TotalGHGEmissions'])\n",
    "plt.savefig('image/normalite_total.png')"
   ]
  },
  {
   "cell_type": "code",
   "execution_count": 94,
   "metadata": {},
   "outputs": [
    {
     "data": {
      "image/png": "[encoded data removed]",
      "text/plain": [
       "<Figure size 720x432 with 1 Axes>"
      ]
     },
     "metadata": {},
     "output_type": "display_data"
    }
   ],
   "source": [
    "# On a la correlation négative et pas tres forte\n",
    "sns.set_theme(color_codes=True)\n",
    "fig, ax = plt.subplots(figsize=(10,6))\n",
    "sns.regplot(x='TotalGHGEmissions', y = 'ENERGYSTARScore', data = data,scatter_kws = {'s': 80,'alpha':0.3}  );\n",
    "pg.pairwise_corr(data, columns=['TotalGHGEmissions','ENERGYSTARScore'], method='spearman')\n",
    "plt.savefig('image/ligne_rouge.png')"
   ]
  },
  {
   "cell_type": "code",
   "execution_count": 95,
   "metadata": {},
   "outputs": [],
   "source": [
    "# Observation plus détaillées "
   ]
  },
  {
   "cell_type": "code",
   "execution_count": 96,
   "metadata": {},
   "outputs": [
    {
     "data": {
      "text/plain": [
       "<AxesSubplot:xlabel='TotalGHGEmissions'>"
      ]
     },
     "execution_count": 96,
     "metadata": {},
     "output_type": "execute_result"
    },
    {
     "data": {
      "image/png": "[encoded data removed]",
      "text/plain": [
       "<Figure size 432x288 with 1 Axes>"
      ]
     },
     "metadata": {},
     "output_type": "display_data"
    }
   ],
   "source": [
    "sns.boxplot(data['TotalGHGEmissions'])"
   ]
  },
  {
   "cell_type": "code",
   "execution_count": 97,
   "metadata": {},
   "outputs": [
    {
     "data": {
      "text/plain": [
       "319.8325"
      ]
     },
     "execution_count": 97,
     "metadata": {},
     "output_type": "execute_result"
    }
   ],
   "source": [
    "moustache_droite = data['TotalGHGEmissions'].quantile(0.75)+1.5*(data['TotalGHGEmissions'].quantile(0.75)-data['TotalGHGEmissions'].quantile(0.25))\n",
    "moustache_droite"
   ]
  },
  {
   "cell_type": "code",
   "execution_count": 98,
   "metadata": {},
   "outputs": [],
   "source": [
    "# Observons la distribution plus petit que la moustache droite\n",
    "X_norm = data[data['TotalGHGEmissions']<=moustache_droite]\n",
    "X_atypique  = data[data['TotalGHGEmissions']>moustache_droite]"
   ]
  },
  {
   "cell_type": "code",
   "execution_count": 99,
   "metadata": {},
   "outputs": [
    {
     "data": {
      "text/plain": [
       "<AxesSubplot:xlabel='TotalGHGEmissions'>"
      ]
     },
     "execution_count": 99,
     "metadata": {},
     "output_type": "execute_result"
    },
    {
     "data": {
      "image/png": "[encoded data removed]",
      "text/plain": [
       "<Figure size 432x288 with 1 Axes>"
      ]
     },
     "metadata": {},
     "output_type": "display_data"
    }
   ],
   "source": [
    "sns.boxplot(X_norm['TotalGHGEmissions'])"
   ]
  },
  {
   "cell_type": "code",
   "execution_count": 100,
   "metadata": {},
   "outputs": [
    {
     "data": {
      "text/plain": [
       "<AxesSubplot:title={'center':'ENERGYSTARScore'}, xlabel='ENERGYSTARScore', ylabel='Count'>"
      ]
     },
     "execution_count": 100,
     "metadata": {},
     "output_type": "execute_result"
    },
    {
     "data": {
      "image/png": "[encoded data removed]",
      "text/plain": [
       "<Figure size 720x432 with 3 Axes>"
      ]
     },
     "metadata": {},
     "output_type": "display_data"
    }
   ],
   "source": [
    "# On obtient 2 distributions asymétriques (valeurs aberrants et non) \n",
    "plt.figure(figsize=(10,6))\n",
    "plt.subplot(131)\n",
    "plt.title('SiteEnergyUse(kBtu)')\n",
    "plt.xscale(value='log')\n",
    "sns.histplot(X_norm['SiteEnergyUse(kBtu)'], bins=50, kde=True)\n",
    "plt.subplot(132)\n",
    "plt.xscale(value='log')\n",
    "plt.title('TotalGHGEmissions')\n",
    "sns.histplot(X_norm['TotalGHGEmissions'], bins=50, kde = True)\n",
    "plt.subplot(133)\n",
    "plt.xscale(value='log')\n",
    "plt.title('ENERGYSTARScore')\n",
    "sns.histplot(X_norm['ENERGYSTARScore'], bins=50, kde = True)\n"
   ]
  },
  {
   "cell_type": "code",
   "execution_count": 101,
   "metadata": {},
   "outputs": [],
   "source": [
    "\n",
    "data1 = X_norm.loc[X_norm['ENERGYSTARScore'].dropna().index,:]"
   ]
  },
  {
   "cell_type": "code",
   "execution_count": 102,
   "metadata": {},
   "outputs": [],
   "source": [
    "star = data1['ENERGYSTARScore']\n",
    "star_const = sm.add_constant(star,prepend=False)"
   ]
  },
  {
   "cell_type": "code",
   "execution_count": 103,
   "metadata": {},
   "outputs": [],
   "source": [
    "model = sm.OLS(data1['TotalGHGEmissions'],star_const)"
   ]
  },
  {
   "cell_type": "code",
   "execution_count": 104,
   "metadata": {},
   "outputs": [
    {
     "name": "stdout",
     "output_type": "stream",
     "text": [
      "                            OLS Regression Results                            \n",
      "==============================================================================\n",
      "Dep. Variable:      TotalGHGEmissions   R-squared:                       0.002\n",
      "Model:                            OLS   Adj. R-squared:                  0.001\n",
      "Method:                 Least Squares   F-statistic:                     2.546\n",
      "Date:                Sun, 05 Sep 2021   Prob (F-statistic):              0.111\n",
      "Time:                        11:12:13   Log-Likelihood:                -5956.8\n",
      "No. Observations:                1042   AIC:                         1.192e+04\n",
      "Df Residuals:                    1040   BIC:                         1.193e+04\n",
      "Df Model:                           1                                         \n",
      "Covariance Type:            nonrobust                                         \n",
      "===================================================================================\n",
      "                      coef    std err          t      P>|t|      [0.025      0.975]\n",
      "-----------------------------------------------------------------------------------\n",
      "ENERGYSTARScore    -0.1318      0.083     -1.596      0.111      -0.294       0.030\n",
      "const              80.0063      5.920     13.514      0.000      68.390      91.623\n",
      "==============================================================================\n",
      "Omnibus:                      245.723   Durbin-Watson:                   1.579\n",
      "Prob(Omnibus):                  0.000   Jarque-Bera (JB):              447.579\n",
      "Skew:                           1.458   Prob(JB):                     6.45e-98\n",
      "Kurtosis:                       4.345   Cond. No.                         186.\n",
      "==============================================================================\n",
      "\n",
      "Notes:\n",
      "[1] Standard Errors assume that the covariance matrix of the errors is correctly specified.\n"
     ]
    }
   ],
   "source": [
    "# R^2 est egal à 0.002 - la prediction des valeurs egal à 0.002\n",
    "rez = model.fit()  \n",
    "print(rez.summary())\n"
   ]
  },
  {
   "cell_type": "code",
   "execution_count": 105,
   "metadata": {},
   "outputs": [
    {
     "data": {
      "text/plain": [
       "Ttest_indResult(statistic=-2.1092224290975596, pvalue=0.03504449319126005)"
      ]
     },
     "execution_count": 105,
     "metadata": {},
     "output_type": "execute_result"
    }
   ],
   "source": [
    "# Les moyennes de 2 colonnes:  (p value < 0.05) - on rejete l'hippothèse que ils ont la même moyenne \n",
    "ttest_ind(data1['ENERGYSTARScore'], data1['TotalGHGEmissions'])"
   ]
  },
  {
   "cell_type": "code",
   "execution_count": null,
   "metadata": {},
   "outputs": [],
   "source": []
  },
  {
   "cell_type": "raw",
   "metadata": {},
   "source": []
  }
 ],
 "metadata": {
  "kernelspec": {
   "display_name": "Python 3",
   "language": "python",
   "name": "python3"
  },
  "language_info": {
   "codemirror_mode": {
    "name": "ipython",
    "version": 3
   },
   "file_extension": ".py",
   "mimetype": "text/x-python",
   "name": "python",
   "nbconvert_exporter": "python",
   "pygments_lexer": "ipython3",
   "version": "3.8.5"
  }
 },
 "nbformat": 4,
 "nbformat_minor": 4
}
